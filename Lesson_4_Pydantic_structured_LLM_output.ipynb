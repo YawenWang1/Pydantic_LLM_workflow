{
 "cells": [
  {
   "cell_type": "markdown",
   "id": "faeb911f-0c53-42a9-8774-bffac389ba6d",
   "metadata": {},
   "source": [
    "Lesson 4: Using Pydantic Models for Structured LLM Output (DeepLearning.AI)\n",
    "\n",
    "Other than using openai from the course, this notebook gonna using GenAI SDK from Google"
   ]
  },
  {
   "cell_type": "markdown",
   "id": "7202f7fa-eac3-41fb-92fc-623513e293c3",
   "metadata": {},
   "source": [
    "The goals:\n",
    "1. Use Pydantic models directly in your API calls to LLMs\n",
    "2. Reliably receive a different frameworks and LLM providers\n"
   ]
  },
  {
   "cell_type": "code",
   "execution_count": 1,
   "id": "d0b5758c-4748-4d0d-ab86-252e64a59a8d",
   "metadata": {},
   "outputs": [],
   "source": [
    "# Import all the libraries\n",
    "from pydantic import BaseModel, Field, field_validator\n",
    "from typing import List, Literal, Optional\n",
    "# import google.generativeai as genai # Being [Deprecated] and End-of-Life Date: All support for this repository (including bug fixes) will permanently end on August 31st, 2025.\n",
    "from google import genai\n",
    "from google.genai import types\n",
    "import instructor\n",
    "import anthropic\n",
    "from dotenv import load_dotenv\n",
    "from datetime import datetime"
   ]
  },
  {
   "cell_type": "code",
   "execution_count": 2,
   "id": "e081b52d-4e04-4c03-a8fb-988ca428032f",
   "metadata": {},
   "outputs": [],
   "source": [
    "# Define the UserInput model\n",
    "class UserInput(BaseModel):\n",
    "    name: str = Field(..., description=\"Customer name\")\n",
    "    email: str = Field(..., description=\"Customer email address\")\n",
    "    query: str = Field(..., description=\"Customer query\")\n",
    "    order_id: Optional[int] = Field(\n",
    "        None,\n",
    "        description=\"5-digit order number (cannot start with 0)\",\n",
    "        ge=10000,\n",
    "        le=99999\n",
    "    )\n",
    "    # This part is to solve the compatibility issue of insturctor. InstructorRetryException: 1 validation error for CustomerQuery\n",
    "    # purchase_date Input should be a valid datetime [type=datetime_type, input_value='2025-01-25T10:38:20Z', input_type=str]\n",
    "    purchase_date: Optional[datetime] = Field(None)\n",
    "    @field_validator('purchase_date', mode = 'before')\n",
    "    def parse_purchase_date(cls, v):\n",
    "        if isinstance(v, str):\n",
    "            # Convert 'Z' (UTC) to '+00:00' for compatibility with fromisoformat\n",
    "            return datetime.fromisoformat(v.replace('Z', '+00:00'))\n",
    "# Define the CustomerQuery model\n",
    "class CustomerQuery(UserInput):\n",
    "    priority: str = Field(..., description=\"Priority level: low, medibum, high\")\n",
    "    category: Literal['refund_request', 'information_request', 'other'] = Field(\n",
    "        ..., description=\"Whether this is a complaint\"\n",
    "    )\n",
    "    tags: List[str] = Field(..., description=\"Relevant keyword tags\")\n"
   ]
  },
  {
   "cell_type": "code",
   "execution_count": 3,
   "id": "26aec734-ae88-4486-9a25-710903ec48a3",
   "metadata": {},
   "outputs": [],
   "source": [
    "# Example user input data as a dictionary\n",
    "\n",
    "\n",
    "user_input_json = '''{\n",
    "    \"name\": \"Joe User\",\n",
    "    \"email\": \"joe.user@example.com\",\n",
    "    \"query\": \"I ordered a new computer monitor and it arrived with the screen cracked. This is the second time that has happened. I need a replacement ASAP.\",\n",
    "    \"order_id\": 12345,\n",
    "    \"purchase_date\": \"2025-01-25\"\n",
    "} '''"
   ]
  },
  {
   "cell_type": "code",
   "execution_count": 4,
   "id": "a592c176-535d-47f7-9132-c5bb53b87583",
   "metadata": {},
   "outputs": [
    {
     "name": "stdout",
     "output_type": "stream",
     "text": [
      "name='Joe User' email='joe.user@example.com' query='I ordered a new computer monitor and it arrived with the screen cracked. This is the second time that has happened. I need a replacement ASAP.' order_id=12345 purchase_date=datetime.datetime(2025, 1, 25, 0, 0)\n"
     ]
    }
   ],
   "source": [
    "# Validate the user_input_json by creating a UserInput instance\n",
    "user_input = UserInput.model_validate_json(user_input_json)\n",
    "print(user_input)"
   ]
  },
  {
   "cell_type": "markdown",
   "id": "8d3d7324-f82c-482a-91dc-e350d643f7a1",
   "metadata": {},
   "source": [
    "Build a prompt and all the anthropic API with the instructor pacakage for structured output"
   ]
  },
  {
   "cell_type": "code",
   "execution_count": 5,
   "id": "414644cc-5eb3-43ac-883c-3e35bb085e0a",
   "metadata": {},
   "outputs": [],
   "source": [
    "prompt = (\n",
    "    f\"Analyze the following customer query {user_input}\"\n",
    "    f\"and provide a structured response\"\n",
    ")"
   ]
  },
  {
   "cell_type": "code",
   "execution_count": 6,
   "id": "b672dc68-9949-48be-8ed4-bd2050440b77",
   "metadata": {
    "scrolled": true
   },
   "outputs": [],
   "source": [
    "# Load environmental variables\n",
    "load_dotenv(dotenv_path=\"C:\\\\Users\\\\yawen\\\\Documents\\\\Learning\\\\Pydantic\\\\geminiai.env\")\n",
    "import os\n",
    "\n",
    "# Configure the google generaltive AI client\n",
    "api_key = os.getenv(\"Google_API_KEY\")\n",
    "if not api_key:\n",
    "    raise\n",
    "ValueError(\"Google_API_KEY not found in environment variables\")\n",
    "\n",
    "client = genai.Client(api_key=api_key)\n",
    "\n",
    "# Use Google Gemini with instructor to get structured output\n",
    "client = instructor.from_provider(\n",
    "        \"google/gemini-2.5-pro\",\n",
    "    mode=instructor.Mode.GENAI_STRUCTURED_OUTPUTS,\n",
    ")\n",
    "\n"
   ]
  },
  {
   "cell_type": "code",
   "execution_count": 7,
   "id": "ef668c81-f87b-473c-8272-23eb7d6771b4",
   "metadata": {
    "scrolled": true
   },
   "outputs": [
    {
     "name": "stdout",
     "output_type": "stream",
     "text": [
      "Response: name='Joe User' email='joe.user@example.com' query='I ordered a new computer monitor and it arrived with the screen cracked. This is the second time that has happened. I need a replacement ASAP.' order_id=12345 purchase_date=datetime.datetime(2025, 1, 25, 0, 0, tzinfo=datetime.timezone.utc) priority='high' category='refund_request' tags=['damaged_item', 'replacement', 'repeat_issue']\n"
     ]
    }
   ],
   "source": [
    "# Extract structured data\n",
    "response = client.messages.create(\n",
    "    messages=[{\"role\": \"user\", \"content\": prompt}],\n",
    "    response_model=CustomerQuery,\n",
    ")\n",
    "print(\"Response:\", response)\n"
   ]
  },
  {
   "cell_type": "code",
   "execution_count": 8,
   "id": "9d98bd7f-40a7-43ad-9a10-40a8b8381777",
   "metadata": {},
   "outputs": [
    {
     "name": "stdout",
     "output_type": "stream",
     "text": [
      "<class '__main__.CustomerQuery'>\n",
      "{\n",
      "  \"name\": \"Joe User\",\n",
      "  \"email\": \"joe.user@example.com\",\n",
      "  \"query\": \"I ordered a new computer monitor and it arrived with the screen cracked. This is the second time that has happened. I need a replacement ASAP.\",\n",
      "  \"order_id\": 12345,\n",
      "  \"purchase_date\": \"2025-01-25T00:00:00Z\",\n",
      "  \"priority\": \"high\",\n",
      "  \"category\": \"refund_request\",\n",
      "  \"tags\": [\n",
      "    \"damaged_item\",\n",
      "    \"replacement\",\n",
      "    \"repeat_issue\"\n",
      "  ]\n",
      "}\n"
     ]
    }
   ],
   "source": [
    "print(type(response))\n",
    "print(response.model_dump_json(indent=2))"
   ]
  },
  {
   "cell_type": "code",
   "execution_count": 9,
   "id": "2597711f-be74-4b15-ad3b-547c8175c103",
   "metadata": {},
   "outputs": [
    {
     "name": "stdout",
     "output_type": "stream",
     "text": [
      "Raw response: sdk_http_response=HttpResponse(\n",
      "  headers=<dict len=11>\n",
      ") candidates=[Candidate(\n",
      "  content=Content(\n",
      "    parts=[\n",
      "      Part(\n",
      "        text=\"\"\"Of course. Here is a structured analysis and response plan for the customer query.\n",
      "\n",
      "---\n",
      "\n",
      "### **Analysis of Customer Query**\n",
      "\n",
      "#### **1. Summary of Query**\n",
      "The customer, Joe User, received a computer monitor for order #12345 that was damaged on arrival (cracked screen). This is the second time this specific issue has occurred for the customer, who is now requesting an urgent replacement.\n",
      "\n",
      "#### **2. Sentiment and Urgency Analysis**\n",
      "*   **Sentiment:** **Highly Negative**. The customer is justifiably frustrated and dissatisfied. Key indicators are \"cracked,\" \"second time this has happened,\" and the overall tone of the complaint.\n",
      "*   **Urgency:** **High**. The customer explicitly uses the term \"ASAP\" (As Soon As Possible). The repeat nature of the problem escalates the urgency, as the customer's patience and trust are likely exhausted. This query should be prioritized above standard damage claims.\n",
      "\n",
      "#### **3. Key Information Extracted**\n",
      "*   **Customer Name:** Joe User\n",
      "*   **Customer Email:** joe.user@example.com\n",
      "*   **Order ID:** 12345\n",
      "*   **Purchase Date:** 2025-01-25\n",
      "*   **Issue:** Damaged on Arrival (Cracked Screen)\n",
      "*   **Critical Context:** This is a repeat occurrence for the customer.\n",
      "*   **Desired Resolution:** Immediate replacement.\n",
      "\n",
      "---\n",
      "\n",
      "### **Recommended Internal Actions (For the Support Team)**\n",
      "\n",
      "1.  **Prioritize & Escalate:** Tag this ticket as **\"Urgent\"** and **\"Repeat Issue.\"** This is no longer a standard support case; it is a customer retention issue.\n",
      "\n",
      "2.  **Immediate Replacement Processing:**\n",
      "    *   Do not wait for the customer to return the broken item.\n",
      "    *   Create a new, no-charge order for the same monitor.\n",
      "    *   Upgrade the shipping to the fastest available method (e.g., overnight or 2-day) at no cost to the customer. This demonstrates that you are taking the \"ASAP\" request seriously.\n",
      "\n",
      "3.  **Handle the Return:**\n",
      "    *   Email the customer a pre-paid return shipping label for the damaged monitor.\n",
      "    *   Instruct them they can use the packaging from the new monitor to return the old one, making the process as convenient as possible.\n",
      "\n",
      "4.  **Investigate the Root Cause:**\n",
      "    *   Flag this order and the customer's previous order for review by the logistics or fulfillment department.\n",
      "    *   Possible causes to investigate:\n",
      "        *   **Inadequate Packaging:** Is the protective material insufficient for this specific monitor model?\n",
      "        *   **Carrier Issues:** Is the shipping carrier consistently damaging packages sent to this customer's region?\n",
      "        *   **Warehouse Handling:** Is there a potential issue with how the product is handled before shipping?\n",
      "    *   This internal investigation is crucial to prevent a *third* occurrence.\n",
      "\n",
      "5.  **Follow-up:**\n",
      "    *   After the replacement ships, send a proactive email with the new tracking number.\n",
      "    *   Consider setting a reminder to check in with the customer a day after the replacement is scheduled for delivery to ensure it arrived safely.\n",
      "\n",
      "---\n",
      "\n",
      "### **Draft Customer-Facing Response**\n",
      "\n",
      "This email is designed to be empathetic, action-oriented, and reassuring.\n",
      "\n",
      "**Subject:** Regarding Your Replacement for Order #12345 - Action Being Taken\n",
      "\n",
      "**Dear Joe User,**\n",
      "\n",
      "Thank you for contacting us. I am so sorry to hear that your new computer monitor arrived damaged for a second time. I can only imagine how frustrating this experience must be, and I sincerely apologize for our failure to get this right for you.\n",
      "\n",
      "Your satisfaction is our top priority, and I have taken immediate action to resolve this.\n",
      "\n",
      "1.  **New Replacement Shipped:** I have already processed a new replacement monitor for you under order number **[New Replacement Order #]**. It has been upgraded to expedited shipping at no cost and should arrive within 1-2 business days. You will receive a separate email with the tracking information shortly.\n",
      "\n",
      "2.  **Return Made Easy:** Regarding the cracked monitor, there is no need to worry. I have attached a pre-paid return shipping label to this email. Once your new monitor arrives, you can simply place the damaged one in that box and attach the label.\n",
      "\n",
      "Please be assured that we are taking this matter very seriously. I have escalated this issue to our fulfillment and packaging teams to investigate why this has happened again and to ensure it does not happen in the future.\n",
      "\n",
      "We deeply value you as a customer, and I apologize once again for the inconvenience and frustration this has caused. If there is anything else at all I can do for you, please reply directly to this email.\n",
      "\n",
      "Sincerely,\n",
      "\n",
      "[Your Name]\n",
      "Customer Support Team\"\"\"\n",
      "      ),\n",
      "    ],\n",
      "    role='model'\n",
      "  ),\n",
      "  finish_reason=<FinishReason.STOP: 'STOP'>,\n",
      "  index=0\n",
      ")] create_time=None response_id=None model_version='gemini-2.5-pro' prompt_feedback=None usage_metadata=GenerateContentResponseUsageMetadata(\n",
      "  candidates_token_count=1024,\n",
      "  prompt_token_count=92,\n",
      "  prompt_tokens_details=[\n",
      "    ModalityTokenCount(\n",
      "      modality=<MediaModality.TEXT: 'TEXT'>,\n",
      "      token_count=92\n",
      "    ),\n",
      "  ],\n",
      "  thoughts_token_count=1653,\n",
      "  total_token_count=2769\n",
      ") automatic_function_calling_history=[] parsed=None\n"
     ]
    }
   ],
   "source": [
    "# This portion is to test whether the model itself works or not\n",
    "raw_response = client.messages.create(\n",
    "    messages=[{\"role\": \"user\", \"content\": prompt}],\n",
    "    response_model=None,\n",
    "\n",
    ")\n",
    "print(\"Raw response:\", raw_response)"
   ]
  },
  {
   "cell_type": "markdown",
   "id": "2d36703a-4490-44db-b882-6c920d79aaad",
   "metadata": {},
   "source": [
    "# Additional advanced usage and inspection"
   ]
  },
  {
   "cell_type": "code",
   "execution_count": 10,
   "id": "36b7ed88-081b-4119-b6e0-5fa063df6b9d",
   "metadata": {},
   "outputs": [
    {
     "name": "stdout",
     "output_type": "stream",
     "text": [
      "<class '__main__.CustomerQuery'>\n",
      "{\n",
      "  \"name\": \"Joe User\",\n",
      "  \"email\": \"joe.user@example.com\",\n",
      "  \"query\": \"I ordered a new computer monitor and it arrived with the screen cracked. This is the second time that has happened. I need a replacement ASAP.\",\n",
      "  \"order_id\": 12345,\n",
      "  \"purchase_date\": \"2025-01-25T00:00:00Z\",\n",
      "  \"priority\": \"high\",\n",
      "  \"category\": \"refund_request\",\n",
      "  \"tags\": [\n",
      "    \"damaged_item\",\n",
      "    \"replacement\",\n",
      "    \"repeat_issue\"\n",
      "  ]\n",
      "}\n"
     ]
    }
   ],
   "source": [
    "# Validate the response you got from the LLM\n",
    "valid_data = CustomerQuery.model_validate_json(response.model_dump_json())\n",
    "print(type(valid_data))\n",
    "print(valid_data.model_dump_json(indent=2))"
   ]
  },
  {
   "cell_type": "code",
   "execution_count": 16,
   "id": "1529bd54-a205-417c-8efe-6701bb45f2c1",
   "metadata": {
    "scrolled": true
   },
   "outputs": [],
   "source": [
    "# Try out the Pydantic AI package for defining an agent and getting a structured response\n",
    "from pydantic_ai import Agent\n",
    "import nest_asyncio\n",
    "nest_asyncio.apply()\n",
    "agent = Agent(\n",
    "    model=\"google-gla:gemini-2.0-flash\",\n",
    "    # model=\"openai:gpt-4o\", # Need openai_api_key, i don't have\n",
    "    output_type=CustomerQuery,\n",
    ")\n",
    "\n",
    "response = agent.run_sync(prompt)"
   ]
  },
  {
   "cell_type": "code",
   "execution_count": 12,
   "id": "4c8de50a-34de-4f7e-b8cb-875273747414",
   "metadata": {
    "scrolled": true
   },
   "outputs": [
    {
     "name": "stdout",
     "output_type": "stream",
     "text": [
      "<class '__main__.CustomerQuery'>\n",
      "{\n",
      "  \"name\": \"Joe User\",\n",
      "  \"email\": \"joe.user@example.com\",\n",
      "  \"query\": \"I ordered a new computer monitor and it arrived with the screen cracked. This is the second time that has happened. I need a replacement ASAP.\",\n",
      "  \"order_id\": 12345,\n",
      "  \"purchase_date\": \"2025-01-25T00:00:00\",\n",
      "  \"priority\": \"high\",\n",
      "  \"category\": \"refund_request\",\n",
      "  \"tags\": [\n",
      "    \"broken\",\n",
      "    \"monitor\",\n",
      "    \"replacement\"\n",
      "  ]\n",
      "}\n"
     ]
    }
   ],
   "source": [
    "# Print out the repsonse type and content\n",
    "print(type(response.output))\n",
    "print(response.output.model_dump_json(indent=2))"
   ]
  },
  {
   "cell_type": "code",
   "execution_count": 14,
   "id": "18dab7a9-d746-4403-9767-58534759330d",
   "metadata": {},
   "outputs": [
    {
     "name": "stdout",
     "output_type": "stream",
     "text": [
      "pydantic_ai.agent.AgentRunResult\n",
      "typing.Generic\n",
      "builtins.object\n"
     ]
    }
   ],
   "source": [
    "def print_class_inheritence(llm_response):\n",
    "    for cls in type(llm_response).mro():\n",
    "        print(f\"{cls.__module__}.{cls.__name__}\")\n",
    "\n",
    "print_class_inheritence(response)"
   ]
  },
  {
   "cell_type": "code",
   "execution_count": null,
   "id": "fdd1fed0-973f-4188-8d87-b95ef4eb9e8b",
   "metadata": {},
   "outputs": [],
   "source": []
  }
 ],
 "metadata": {
  "kernelspec": {
   "display_name": "Python 3 (ipykernel)",
   "language": "python",
   "name": "python3"
  },
  "language_info": {
   "codemirror_mode": {
    "name": "ipython",
    "version": 3
   },
   "file_extension": ".py",
   "mimetype": "text/x-python",
   "name": "python",
   "nbconvert_exporter": "python",
   "pygments_lexer": "ipython3",
   "version": "3.10.18"
  }
 },
 "nbformat": 4,
 "nbformat_minor": 5
}
