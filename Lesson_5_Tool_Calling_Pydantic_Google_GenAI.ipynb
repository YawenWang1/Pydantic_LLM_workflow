{
 "cells": [
  {
   "cell_type": "markdown",
   "id": "94f3cc4e-b1e9-4f2c-a782-d94627b00133",
   "metadata": {},
   "source": [
    "# Lesson 5: Tool calling with Pydantic Models and GenAI (OpenAI from the course)\n",
    "\n",
    "The goals:\n",
    "    1. Use Pydantic models to define tool schemas for GenAI's tool calling API\n",
    "    2. Register your tool with the API using validated schema\n",
    "    3. Handle tool calls and validate arguments with Pydantic\n",
    "    4. Integrate LLM-driven workflows with your own python functions and data sources\n"
   ]
  },
  {
   "cell_type": "code",
   "execution_count": 1,
   "id": "637d7ff0-c9e4-42de-9ef5-77f58a54eacc",
   "metadata": {},
   "outputs": [],
   "source": [
    "# Import all the libraries\n",
    "from pydantic import BaseModel, Field, EmailStr, field_validator\n",
    "from pydantic_ai import Agent\n",
    "from typing import Literal, List, Optional\n",
    "from datetime import date, datetime\n",
    "import json\n",
    "from google import genai\n",
    "import instructor\n",
    "from dotenv import load_dotenv\n",
    "# Load environmental variables\n",
    "load_dotenv(dotenv_path=\"C:\\\\Users\\\\yawen\\\\Documents\\\\Learning\\\\Pydantic\\\\geminiai.env\")\n",
    "import nest_asyncio\n",
    "nest_asyncio.apply()\n"
   ]
  },
  {
   "cell_type": "code",
   "execution_count": 2,
   "id": "55a4362c-1dc6-49c6-a4d7-24244058556d",
   "metadata": {},
   "outputs": [],
   "source": [
    "# Define your UserInput model\n",
    "class UserInput(BaseModel):\n",
    "    name: str = Field(..., description = \"User's name\")\n",
    "    email: str = Field(..., description = \"User's email address\")\n",
    "    query: str = Field(..., description = \"User's query\")\n",
    "    order_id: Optional[str] = Field(\n",
    "        None,\n",
    "        description = \"Order ID if available (format: ABC-12345)\" \n",
    "    )\n",
    "    # Validate order_id format\n",
    "    @field_validator(\"order_id\")\n",
    "    def validate_order_id(cls, order_id):\n",
    "        import re\n",
    "        if order_id is None:\n",
    "            return order_id\n",
    "        pattern = r\"^[A-Z]{3}-\\d{5}$\"\n",
    "\n",
    "        if not re.match(pattern, order_id):\n",
    "            raise ValueError(\n",
    "                \"order_id must be in format ABC-12345\"\n",
    "                \"(3 uppercase letters, dash, 5 digits)\"\n",
    "            )\n",
    "\n",
    "        return order_id\n",
    "    purchase_date: Optional[datetime] = Field(None)\n",
    "    # Validate purchase_date format\n",
    "    @field_validator('purchase_date', mode = 'before')\n",
    "    def parse_purchase_date(cls, v):\n",
    "        if isinstance(v, str):\n",
    "            # Convert 'Z' (UTC) to '+00:00' for compatibility with fromisoformat\n",
    "            return datetime.fromisoformat(v.replace('Z', '+00:00'))        "
   ]
  },
  {
   "cell_type": "code",
   "execution_count": 3,
   "id": "88ebd7e0-e43a-42a1-b3c3-a1ae01408101",
   "metadata": {},
   "outputs": [],
   "source": [
    "# Define CustomerQuery model\n",
    "class CustomerQuery(UserInput):\n",
    "    priority: str = Field(\n",
    "        ..., description = \"Priority level: low, medium, high\"\n",
    "    )\n",
    "    category: Literal[\n",
    "        'refund_request', 'information_request', 'other'\n",
    "    ] = Field (..., description = \"Query category\")\n",
    "    is_complaint: bool = Field (\n",
    "        ..., description = \"whether this is a complaint\"\n",
    "    )\n",
    "    tags: list[str] = Field(\n",
    "        ..., description = \"Relevant keywords tags\"\n",
    "    )"
   ]
  },
  {
   "cell_type": "markdown",
   "id": "a00e2f77-4291-428a-b012-f3becd9a8585",
   "metadata": {},
   "source": [
    "# Validate user input and create a CustomerQuery instance"
   ]
  },
  {
   "cell_type": "code",
   "execution_count": 4,
   "id": "855c779c-897b-45a4-b881-385c095420ef",
   "metadata": {},
   "outputs": [],
   "source": [
    "# Define a function to validate user input\n",
    "def validate_user_input(user_json: str):\n",
    "    \"\"\" Validate user input from a json string and return a UserInput instance if valid  \n",
    "    \"\"\"\n",
    "\n",
    "    try:\n",
    "        user_input = UserInput.model_validate_json(user_json)\n",
    "        print(\"User input validated ...\")\n",
    "\n",
    "        return user_input\n",
    "    except Exception as e:\n",
    "        print(f\"Unexpected error: {e}\")\n",
    "        return None"
   ]
  },
  {
   "cell_type": "code",
   "execution_count": 5,
   "id": "c8224274-72af-4077-9669-6d4a1fbbbaa1",
   "metadata": {},
   "outputs": [],
   "source": [
    "# Define a function to call an LLM using pydantic ai to ccreate an instance of CustomerQuery\n",
    "def create_customer_query(valid_user_json: str):\n",
    "    customer_query_agent = Agent(\n",
    "        model=\"google-gla:gemini-2.5-pro\",\n",
    "        output_type = CustomerQuery,\n",
    "    )\n",
    "    response = customer_query_agent.run_sync(valid_user_json)\n",
    "    print(\"CustomerQuery generated ...\")\n",
    "    return response.output\n",
    "    "
   ]
  },
  {
   "cell_type": "code",
   "execution_count": 6,
   "id": "8d899d93-bfc2-4bbb-a4dc-77df3535da59",
   "metadata": {},
   "outputs": [],
   "source": [
    "# Configure the google generaltive AI client\n",
    "import os\n",
    "api_key = os.getenv(\"GOOGLE_API_KEY\")\n"
   ]
  },
  {
   "cell_type": "markdown",
   "id": "863c4557-368e-4691-8160-f097fe87cd0f",
   "metadata": {},
   "source": [
    "# Try out your validation and query creation with creation with sample input"
   ]
  },
  {
   "cell_type": "code",
   "execution_count": 7,
   "id": "ce81c2ba-ed9e-41ef-afe2-826e7fa9d1c4",
   "metadata": {},
   "outputs": [
    {
     "name": "stdout",
     "output_type": "stream",
     "text": [
      "User input validated ...\n",
      "CustomerQuery generated ...\n",
      "<class '__main__.CustomerQuery'>\n",
      "{\n",
      "  \"name\": \"Joe User\",\n",
      "  \"email\": \"joe@example.com\",\n",
      "  \"query\": \"When can I expect delivery of the headphones I ordered?\",\n",
      "  \"order_id\": \"ABC-12345\",\n",
      "  \"purchase_date\": \"2025-01-10T00:00:00\",\n",
      "  \"priority\": \"low\",\n",
      "  \"category\": \"information_request\",\n",
      "  \"is_complaint\": false,\n",
      "  \"tags\": [\n",
      "    \"delivery\",\n",
      "    \"headphones\"\n",
      "  ]\n",
      "}\n"
     ]
    }
   ],
   "source": [
    "# Define user input json data\n",
    "user_input_json = '''{\n",
    "    \"name\": \"Joe User\",\n",
    "    \"email\": \"joe@example.com\",\n",
    "    \"query\": \"When can I expect delivery of the headphones I ordered?\",\n",
    "    \"order_id\": \"ABC-12345\",\n",
    "    \"purchase_date\": \"2025-01-10\"  \n",
    "} \n",
    "'''\n",
    "# Validate user input and create a customerquery\n",
    "valid_data = validate_user_input(user_input_json).model_dump_json()\n",
    "customer_query = create_customer_query(valid_data)\n",
    "print(type(customer_query))\n",
    "print(customer_query.model_dump_json(indent=2))"
   ]
  },
  {
   "cell_type": "code",
   "execution_count": 8,
   "id": "4c0f0b00-380c-4d71-962e-165880d98025",
   "metadata": {},
   "outputs": [
    {
     "name": "stdout",
     "output_type": "stream",
     "text": [
      "{\"name\":\"Joe User\",\"email\":\"joe@example.com\",\"query\":\"When can I expect delivery of the headphones I ordered?\",\"order_id\":\"ABC-12345\",\"purchase_date\":\"2025-01-10T00:00:00\"}\n"
     ]
    }
   ],
   "source": [
    "print(valid_data)"
   ]
  },
  {
   "cell_type": "markdown",
   "id": "7bc4940d-d53e-414c-94de-5b5483d96bd3",
   "metadata": {},
   "source": [
    "# Define tool input models for FAQ lookup and order status"
   ]
  },
  {
   "cell_type": "code",
   "execution_count": 9,
   "id": "ba886a26-2d60-410d-825a-a0ac918f235e",
   "metadata": {},
   "outputs": [],
   "source": [
    "# Define FAQ lookup tool input as a pydantic model\n",
    "class FAQLookupArgs(BaseModel):\n",
    "    query: str = Field(..., description = \"User's query\")\n",
    "    tags: List[str] = Field(..., description = \"Relevant keyword tag\")\n"
   ]
  },
  {
   "cell_type": "code",
   "execution_count": 10,
   "id": "193bc0c0-54a1-4d1e-8618-49e785f37e41",
   "metadata": {},
   "outputs": [],
   "source": [
    "# Define Check Order Status tool input as a Pydantic model\n",
    "class CheckOrderStatusArgs(BaseModel):\n",
    "    order_id: Optional[str] = Field(\n",
    "        None,\n",
    "        description = \"Order ID if available (format: ABC-12345)\" \n",
    "    )\n",
    "    email: str = Field(..., description = \"User's email\")\n",
    "    # Validate order_id format\n",
    "    @field_validator(\"order_id\")\n",
    "    def validate_order_id(cls, order_id):\n",
    "        import re\n",
    "        if order_id is None:\n",
    "            return order_id\n",
    "        pattern = r\"^[A-Z]{3}-\\d{5}$\"\n",
    "\n",
    "        if not re.match(pattern, order_id):\n",
    "            raise ValueError(\n",
    "                \"order_id must be in format ABC-12345\"\n",
    "                \"(3 uppercase letters, dash, 5 digits)\"\n",
    "            )\n",
    "\n",
    "        return order_id"
   ]
  },
  {
   "cell_type": "code",
   "execution_count": 11,
   "id": "42df2d17-73c2-4da8-bb2e-a89a0c85bf15",
   "metadata": {},
   "outputs": [],
   "source": [
    "# Create a fake FAQ database as a list of entries with keywords\n",
    "faq_db = [\n",
    "    {\n",
    "        \"question\": \"How can I reset my password?\",\n",
    "        \"answer\": \"To reset your password, click 'Forgot Password' on the sign-in page and follow the instructions sent to your email.\",\n",
    "        \"keywords\": [\"password\", \"reset\", \"account\"]\n",
    "    },\n",
    "    {\n",
    "        \"question\": \"How long does shipping take?\",\n",
    "        \"answer\": \"Standard shipping takes 3-5 business days. You can track your order in your account dashboard.\",\n",
    "        \"keywords\": [\"shipping\", \"delivery\", \"order\", \"tracking\"]\n",
    "    },\n",
    "    {\n",
    "        \"question\": \"How can I return an item?\",\n",
    "        \"answer\": \"You can return any item within 30 days of purchase. Visit our returns page to start the process.\",\n",
    "        \"keywords\": [\"return\", \"refund\", \"exchange\"]\n",
    "    },\n",
    "    {\n",
    "        \"question\": \"How can I delete my account?\",\n",
    "        \"answer\": \"To delete your account, go to your account settings tab and select 'delete account'.\",\n",
    "        \"keywords\": [\"delete\", \"account\", \"remove\"]\n",
    "    }\n",
    "]\n",
    "\n",
    "# Create a fake order database\n",
    "order_db = {\n",
    "    \"ABC-12345\": {\n",
    "        \"status\": \"shipped\", \"estimated_delivery\": \"2025-12-05\",\n",
    "        \"purchase_date\": \"2025-12-01\", \"email\": \"joe@example.com\"\n",
    "    },\n",
    "    \"XYZ-23456\": {\n",
    "        \"status\": \"processing\", \"estimated_delivery\": \"2025-12-15\",\n",
    "        \"purchase_date\": \"2025-12-10\", \"email\": \"sue@example.com\"\n",
    "    },\n",
    "    \"QWE-34567\": {\n",
    "        \"status\": \"delivered\", \"estimated_delivery\": \"2025-12-20\",\n",
    "        \"purchase_date\": \"2025-12-18\", \"email\": \"bob@example.com\"\n",
    "    }\n",
    "}"
   ]
  },
  {
   "cell_type": "markdown",
   "id": "77521bd5-a6f4-4367-822f-d45525649142",
   "metadata": {},
   "source": [
    "# Implement tool functions for FAQ lookup and order status"
   ]
  },
  {
   "cell_type": "code",
   "execution_count": 12,
   "id": "c253e9c8-777f-43a6-b8af-e5112cb94e2c",
   "metadata": {},
   "outputs": [],
   "source": [
    "# Define your FAQ lookup tool\n",
    "def lookup_faq_answer(args: FAQLookupArgs) -> str:\n",
    "    \"\"\" Look up an FAQ answer by matching tags and words in query to FAQ entry keywords\"\"\"\n",
    "    query_words = set(word.lower() for word in args.query.split()) \n",
    "    tar_set = set(tag.lower() for tag in args.tag)\n",
    "    best_match = None\n",
    "    best_score = 0\n",
    "    for faq in faq_db:\n",
    "        keywords = set(k.lower() for k in faq[\"keywords\"])\n",
    "        score = len(keywords & tag_set) + len(keywords & query_words)\n",
    "\n",
    "        if score > best_score:\n",
    "            best_score = score\n",
    "            best_match = faq\n",
    "    if best_match and best_score > 0:\n",
    "        return best_match[\"answer\"]\n",
    "    return \"Sorry, I couldn't find a FAQ answer.\""
   ]
  },
  {
   "cell_type": "code",
   "execution_count": 13,
   "id": "2f6b3810-8fb9-4bd5-86de-26967b6f947f",
   "metadata": {},
   "outputs": [],
   "source": [
    "# Define check order status\n",
    "def check_order_status(args: CheckOrderStatusArgs) -> str:\n",
    "    \"\"\"Stimulate checking the status of a customer's order by order_id and email \"\"\"\n",
    "    order = order_db.get(args.order_id)\n",
    "    if not order:\n",
    "        return {\n",
    "            \"order_id\": args.order_id,\n",
    "            \"status\": \"not found\",\n",
    "            \"estimated_delivery\": None,\n",
    "            \"note\": \"order_id not found\"\n",
    "        }\n",
    "\n",
    "    if args.email.lower() != order_db.get(\"email\", \"\").lower():\n",
    "        return {\n",
    "            \"order_id\": args.order_id,\n",
    "            \"status\": order[\"status\"],\n",
    "            \"estimated_delivery\": order[\"estimated_delivery\"],\n",
    "            \"note\": \"order_id found but email mismatch\"\n",
    "        }\n",
    "\n",
    "    return {\n",
    "        \"order_id\": args.order_id,\n",
    "        \"status\": order[\"status\"],\n",
    "        \"estimated_delivery\": order[\"estimated_delivery\"],\n",
    "        \"note\": \"order_id and email match\"\n",
    "    }        "
   ]
  },
  {
   "cell_type": "markdown",
   "id": "4b81169e-4024-43ff-9ad6-be50586475e1",
   "metadata": {},
   "source": [
    "# Define tool schemas for GenAI tool calling"
   ]
  },
  {
   "cell_type": "code",
   "execution_count": 30,
   "id": "2c592f5d-c160-4162-b085-30c627381cb1",
   "metadata": {},
   "outputs": [],
   "source": [
    "# Define tools for your API call \n",
    "tool_definitions = [\n",
    "    {\n",
    "        \"type\": \"function\",\n",
    "        \"function\": {\n",
    "            \"name\": \"lookup_faq_answer\",\n",
    "            \"description\": \"Look up an FAQ answer by matching tags to FAQ entry keywords.\",\n",
    "            \"parameters\": FAQLookupArgs.model_json_schema()\n",
    "        }\n",
    "    },\n",
    "    {\n",
    "        \"type\": \"function\",\n",
    "        \"function\": {\n",
    "            \"name\": \"check_order_status\",\n",
    "            \"description\": \"Check the status of a customer's order.\",\n",
    "            \"parameters\": CheckOrderStatusArgs.model_json_schema()\n",
    "        }\n",
    "    }\n",
    "]"
   ]
  },
  {
   "cell_type": "code",
   "execution_count": 15,
   "id": "7f3c75e2-07a1-4001-bba2-94ab88472f67",
   "metadata": {},
   "outputs": [],
   "source": [
    "from google.genai import types\n",
    "# Define function declarations for your tools\n",
    "lookup_faq_function = types.FunctionDeclaration(\n",
    "    name=\"lookup_faq_answer\",\n",
    "    description=\"Look up an FAQ answer by matching tags to FAQ entry keywords.\",\n",
    "    parameters=FAQLookupArgs.model_json_schema()\n",
    ")\n",
    "\n",
    "check_order_status_function = types.FunctionDeclaration(\n",
    "    name=\"check_order_status\",\n",
    "    description=\"Check the status of a customer's order.\",\n",
    "    parameters=CheckOrderStatusArgs.model_json_schema()\n",
    ")\n",
    "\n",
    "tool = [types.Tool(functionDeclarations=[lookup_faq_function, check_order_status_function])]"
   ]
  },
  {
   "cell_type": "code",
   "execution_count": 16,
   "id": "c70a44cf-8495-4021-a649-0eed1bd74701",
   "metadata": {},
   "outputs": [],
   "source": [
    "# Define final output pydantic models\n",
    "class OrderDetails(BaseModel):\n",
    "    status: str\n",
    "    estimated_delivery: str\n",
    "    note: str\n",
    "\n",
    "class SupportTicket(CustomerQuery):\n",
    "    recommended_next_action: Literal['escalate_to_agent', 'send_faq_response', \n",
    "        'send_order_status', 'no_action_needed'] = Field(..., description = \"LLM's recommeded next action for support\")\n",
    "    order_details: Optional[OrderDetails] = Field(None, description = \"Order details if action is send_order_status\")\n",
    "    faq_response: Optional[str] = Field(None, description = \"FAQ response if action is send_faq_response\")\n",
    "    creation_date: datetime = Field(..., description = \"Date and time the ticket was created\")\n",
    "    "
   ]
  },
  {
   "cell_type": "markdown",
   "id": "a265e087-f5b7-44bf-a298-f764981e1e4c",
   "metadata": {},
   "source": [
    "# Decided on the next support action using Google GenAI tool calling\n"
   ]
  },
  {
   "cell_type": "code",
   "execution_count": 17,
   "id": "1ded2cd9-a220-444b-96a1-cad929dce7db",
   "metadata": {},
   "outputs": [],
   "source": [
    "# Initialize GenAI client\n",
    "client = genai.Client(api_key=api_key)\n",
    "\n",
    "def decide_next_action_with_tools(customer_query: CustomerQuery):\n",
    "    support_ticket_schema = json.dumps(\n",
    "        SupportTicket.model_json_schema(), indent=2\n",
    "    )\n",
    "    system_prompt = f\"\"\" \n",
    "        You are a helpful customer support agent. Your job is to \n",
    "        determine what support action should be taken for the customer, \n",
    "        based on the customer query and the expected fields in the \n",
    "        SupportTicket schema below. If more information on a particular \n",
    "        order_id or FAQ response would be helpful in responding to the \n",
    "        user query and can be obtained by calling a tool, call the \n",
    "        appropriate tool to get that information. If an order_id is \n",
    "        present in the query, always look up the order status to get \n",
    "        more information on the order.\n",
    "\n",
    "        Here is the JSON schema for the SupportTicket model you must \n",
    "        use as context for what information is expected:\n",
    "        {support_ticket_schema}    \n",
    "    \"\"\"\n",
    "\n",
    "    messages = [\n",
    "        {\"role\": \"model\", \"content\": system_prompt},\n",
    "        {\"role\": \"user\", \"content\": str(customer_query.model_dump())}\n",
    "    ]\n",
    "\n",
    "    # Convert to Google GenAI contents format\n",
    "    contents = [\n",
    "       types.Content(\n",
    "            role=msg[\"role\"],\n",
    "            parts=[types.Part(text=msg[\"content\"])]\n",
    "        )\n",
    "        for msg in messages\n",
    "    ]\n",
    "\n",
    "\n",
    "    tool_config = types.ToolConfig(\n",
    "        function_calling_config=types.FunctionCallingConfig(mode='ANY')\n",
    "    )\n",
    "\n",
    "    response = client.models.generate_content(\n",
    "        model = 'gemini-2.5-pro',\n",
    "        contents = contents,\n",
    "        config=types.GenerateContentConfig(\n",
    "            tools=tool,\n",
    "            # Enable automatic function calling.\n",
    "            automatic_function_calling=types.AutomaticFunctionCallingConfig(disable=False), \n",
    "            tool_config=tool_config,\n",
    "            )\n",
    "        \n",
    "    )\n",
    "\n",
    "    message = response.candidates[0].content\n",
    "    tool_calls = response.candidates[0].content.parts[0].function_call\n",
    " \n",
    "    return message, tool_calls, contents\n",
    "    #return response"
   ]
  },
  {
   "cell_type": "code",
   "execution_count": 18,
   "id": "61ef1050-be12-4508-816c-9038779fcbdc",
   "metadata": {},
   "outputs": [
    {
     "name": "stdout",
     "output_type": "stream",
     "text": [
      "LLM message:\n",
      " {'parts': [{'video_metadata': None, 'thought': None, 'inline_data': None, 'file_data': None, 'thought_signature': b'\\n\\xfc\\x06\\x01T\\xa8\\\\\\xee\\x7f)\\xf2R\\x10\\xd537\\xac\\xf5\\x82t-\\xde\\x02\\xfa:y\\x01\\xf8Mi\\x10\\x82\\xadx\\x9ao\\xe3\\x96\\x0c\\x9a\\x93\\xb5\\xb2i\\xa4\\x88\\xc1s\\xc7\\xd8d=\\xcd\\xee\\xf5\\xa6\\x0e\\xc9\\x139@ \\xa5\\xfb\\xf8\\xd7Ra\\xd0S\\xbaCz\\x18\\x04\\x07\\xe5fc\\xa6\\x87\\xb5\\xc8\\xf1<\\xe8\\xee\\xe6c\\xb2\\x8d\\x93(\\x01\\xdc6\\x00\\x8d\\x1d#q\\xa2\\xd0V\\xb8\\xa0\\x82r\\x16\\x07\\x82~\\xb2V\\xb9\\xaf\\xe4\\xee\\xc9\\x96td\\t\\xc5\\x87|R\\xe8:tF\\xa1\\x8do\\x836\\xa8\\xa4hx\\xe4\\xee\\x8e\\x7f\\x11e\\xeb9D\\xd2\\x06I!Q^\\xc88\\xda\\xc3\\x0cVu\\xec\\xeb\\xff\\x08\\x88\\xfc\\xa3a\\x9a1\\xdbv\\xe3\\x89\\x06\\xdb\\xe6;\\xb5\\xeb\\xc2\\x93\\x1a\\xea\\xff_\\x96\\x895\\xf41\\xcc\\\\\\x15\\xdb\\xfb\\r9\\xf4K3p\\x17?\\xea\\xc9\\xbc%rd\\xc0T).\\xb9\\xdf\\xfc\\xac\\x82\\xdc\\xd6zpd\\xe5\\x97\\xc2\\x13V\\x86\\x89\\xf8I\\xf4\\x93\\xda\\xfful\\xe8#G>B\\xa2\\xf5\\x97\\x9c6Y\\xd1\\xccq\\xc3\\xab\\xd3\\x17\\xf8\\xa3/5\\x82\\xc1L\\x01!U\\xa6l\"?#Ce\\xd4\\tmS\\xc2\\xe4\\xcaDA\\x8e\\x93\\xa6a\\x15Z)\\x04_\\x04\\xed\\xcbz?p]\\xeaW\\xa9\\x9c\\xe1\\'8e\\x1cl\\x82\\x97\\x8a\\x00\\x8c\\xaa\\x1aZ\\x13\\x01\\x10j\\xcdq\\x87\\x00\\x17\\x10w\\x7fL\\xb9\\xaa\\xae8\\xaf\\xf5*\\x89\\xd6\\xc0\\'\\x0c#\\x1d\\x9d\\xdc}$\\x08 \\xd5\\xe2Iy\\xc1:\\x1aJ\\xec\\xde\\x1cu\\xb6j\\xd0\\'mJ:\\xa3\\\\\\xe1iCL\\x89Ls\\x96\\xe3Qw\\x98\\x81\\x91\\x92Y\\xd0X\\x1d\\xc0\\xac\\x9f\\xd1\\xcbY\\x94\\xbc\\xaa\\xec\\xeb\\xe6\\xbdJ\\xba\\x88\\xbf \\x19\\xc4\\xb2G}X5\\xe2\\xbc\\xf0\\x01\\xb7\\x1d@\\x15\\xf5F\\x04\\x8f\\x9ek\\x00=\\xacy\\xdb\\xbcI\\x16\\xedLZ\\xf5\\xf8.|\\x16\\x89tyk\\xedqE\\xbe\\xdc\\x80\\xab\\xda\\x8d\\x93\\xfc\\x15?ih\\xda\\xe1\\xa8\\\\\\xceo\\x81\\x8d\\x0c\\xd22r\\xb6\\ra\\xd0I\\xbc\\xf4@\\xaf\\xec\\x0f\\xe4\\x15\\xf5\\xa9U\\x83ab\\xbb\\x9cWR\\xd7\\r\\x1f\\x15\\xe3+&\\xa4+\\x90\\xdf\\x9b\\xa6\\xda\\xa2\\xcdjR\\x7f5\\xb1ad\\xf7?\\xe4\\x12n\\\\Xk_\\xd6{\\xe47\\xa5\\x94Y\\nFG\\xfau\\x04\\xe6l\\xd8\\xeb\\x91\\xc1\\x93\\x98\\xf2\\xcd\\xf8\\xda\\xcd\\x89_\\x14\\xd8[\\xcc;\\x87\\x8af\\r5\\xc3e\\xe6?\\xb9~\\x03*\\x155\\x8b\\x91\\xbf\\xe3\\xf6>:\\xf3a*>5|$\\xfb\\x01\\xae\\x90\\xdf\\xfd\\x97\\x8b\\xf7\\xbc*\\xf6\\x0bR(g\\x94\\xb7A4\\x15\\xf5\\xdb\\xc0\\x11\\x9b\\x0b\\x8e\\xb0\\xefZ\\xd8\\x12\\xa7\\xf0\\xc5\\xf4\\'\\xef\\xe2\\xa2\\x14u\\xec\\xea\\x84\\x97\\x0c\\xd1\\x02\\xc5\\x13\\xb2\\xfc&\\x11\\xf3\\xc7\\x8aX\\x08\\xc6\\xe9\\xb3\\xd7\\xfe:\\xc9\\x1b\\xcb\\xdez\\x0f\\xab\\xae2\\rr[\\xbf \\x82\\xec\\xe1\\xf3\\x8dk\\r\\xed0B\\xf8\\xc4\\xf38\\x9a\\xefI|WF\\x0b\\xf0\\xa2\\xc35\\xcd\\x82\\xa3\\xf5_\\x82\\x83\\xf7h%F\\x00\\xed.\\xdc\\xaaD\\xfeNiV\\\\\"*p*Y\\x8a\\xa7 8\\xc1\\x0b\\xb8\\xb4\\xecF\\xb2\\x9e\\xdc\\xab\\x11\\xcf\\xec\\xb5l\\x906\\x0e\\xd9m\\xff\\xa2\\xf4vn\\xb8\\x04\\x01\\xd0Fl\\x16,\\xd42\\xa3{\\xbb\\xc1\\xc2\\x9a%\\xe43(\\x13N\\xaf2\\x13i\\xdb\\xf0\\x16\\xcd\\xff\\xd0qj\\x9e\\x94\\x11\\xa2\\x87\\xdd\\xf3\\xfb\\xd2\\x95b\\xed\\x18\\xd1\\x8b\\xf1w\\xe2<l\\xf4\\xf8\\xe4\\xd6\\x18>\\xbf\\xc2~\\xea\\x96\\xa0\\t\\x00\\xb7\\xdf\\x00\\x8f\\xdcf\\xf8e\\xf9nE\\xd8\\xab\\xc2\\x04\\xe0\\xfe\\xb7\\xd7\\xa0\\xde\\xdf\\x99\\xa7\\x8d*s\\xdc}\\xb0\\xc3s\\xb3\\xdat\\xe0\\x04}\\xe3\\x02V7yCD\\x95\\xce#\\xb9\\x8f\\xbc$P,\\x89\\xf7\\x93\\x18\\t\\x1bbz\\xea\\xe0\\x06\\x109\\xca\\xe2\\xd9', 'code_execution_result': None, 'executable_code': None, 'function_call': {'id': None, 'args': {'order_id': 'ABC-12345', 'email': 'joe@example.com'}, 'name': 'check_order_status'}, 'function_response': None, 'text': None}], 'role': 'model'}\n",
      "\n",
      "Tool calls:\n",
      " {'id': None, 'args': {'order_id': 'ABC-12345', 'email': 'joe@example.com'}, 'name': 'check_order_status'}\n"
     ]
    }
   ],
   "source": [
    "# Call the decide_next_action_with_tools function\n",
    "message, tool_calls, messages = decide_next_action_with_tools(\n",
    "    customer_query\n",
    ")\n",
    "# Investigate the LLM's outputs before proceeding\n",
    "print(\"LLM message:\\n\", message.model_dump())\n",
    "print(\n",
    "    \"\\nTool calls:\\n\", \n",
    "    tool_calls.model_dump()\n",
    ")"
   ]
  },
  {
   "cell_type": "code",
   "execution_count": null,
   "id": "8669039c-6016-4db3-a36a-9b8c2e3d0d96",
   "metadata": {},
   "outputs": [],
   "source": []
  },
  {
   "cell_type": "code",
   "execution_count": null,
   "id": "b256af2b-2d47-466c-9a42-aa6b2185be74",
   "metadata": {},
   "outputs": [],
   "source": [
    "# Create the Anthropic client with Instructor\n",
    "anthropic_client = instructor.from_anthropic(\n",
    "    anthropic.Anthropic()\n",
    ")\n",
    "\n",
    "# Define a function to call Anthropic to generate a support ticket\n",
    "def generate_structured_support_ticket(\n",
    "    customer_query: CustomerQuery, message, tool_outputs: list\n",
    "):\n",
    "    tool_results_str = \"\\n\".join([\n",
    "        f\"Tool: {out['tool_call_id']} Output: {json.dumps(out['output'])}\"\n",
    "        for out in tool_outputs\n",
    "    ]) if tool_outputs else \"No tool calls were made.\"\n",
    "    # Concatenate prompt parts into a single string for Anthropic\n",
    "    prompt = f\"\"\"\n",
    "        You are a support agent. Use all information below to \n",
    "        generate a support ticket as a validated Pydantic model.\n",
    "        Customer query: {customer_query.model_dump_json(indent=2)}\n",
    "        LLM message: {str(message.content)}\n",
    "        Tool results: {tool_results_str}\n",
    "    \"\"\"\n",
    "    # Create the message with structured output\n",
    "    response = anthropic_client.messages.create(\n",
    "        model=\"claude-3-7-sonnet-latest\",  \n",
    "        max_tokens=1024,\n",
    "        messages=[\n",
    "            {\n",
    "                \"role\": \"user\", \n",
    "                \"content\": prompt\n",
    "            }\n",
    "        ],\n",
    "        response_model=SupportTicket\n",
    "    )\n",
    "    \n",
    "    support_ticket = response\n",
    "    support_ticket.creation_date = datetime.now()\n",
    "    return support_ticket"
   ]
  },
  {
   "cell_type": "code",
   "execution_count": 110,
   "id": "047d311c-3dc1-42d5-bbff-dfb3521531cb",
   "metadata": {},
   "outputs": [
    {
     "data": {
      "text/plain": [
       "[{'role': 'model',\n",
       "  'content': ' \\n        You are a helpful customer support agent. Your job is to \\n        determine what support action should be taken for the customer, \\n        based on the customer query and the expected fields in the \\n        SupportTicket schema below. If more information on a particular \\n        order_id or FAQ response would be helpful in responding to the \\n        user query and can be obtained by calling a tool, call the \\n        appropriate tool to get that information. If an order_id is \\n        present in the query, always look up the order status to get \\n        more information on the order.\\n\\n        Here is the JSON schema for the SupportTicket model you must \\n        use as context for what information is expected:\\n        {\\n  \"$defs\": {\\n    \"OrderDetails\": {\\n      \"properties\": {\\n        \"status\": {\\n          \"title\": \"Status\",\\n          \"type\": \"string\"\\n        },\\n        \"estimated_delivery\": {\\n          \"title\": \"Estimated Delivery\",\\n          \"type\": \"string\"\\n        },\\n        \"note\": {\\n          \"title\": \"Note\",\\n          \"type\": \"string\"\\n        }\\n      },\\n      \"required\": [\\n        \"status\",\\n        \"estimated_delivery\",\\n        \"note\"\\n      ],\\n      \"title\": \"OrderDetails\",\\n      \"type\": \"object\"\\n    }\\n  },\\n  \"properties\": {\\n    \"name\": {\\n      \"description\": \"User\\'s name\",\\n      \"title\": \"Name\",\\n      \"type\": \"string\"\\n    },\\n    \"email\": {\\n      \"description\": \"User\\'s email address\",\\n      \"title\": \"Email\",\\n      \"type\": \"string\"\\n    },\\n    \"query\": {\\n      \"description\": \"User\\'s query\",\\n      \"title\": \"Query\",\\n      \"type\": \"string\"\\n    },\\n    \"order_id\": {\\n      \"anyOf\": [\\n        {\\n          \"type\": \"string\"\\n        },\\n        {\\n          \"type\": \"null\"\\n        }\\n      ],\\n      \"default\": null,\\n      \"description\": \"Order ID if available (format: ABC-12345)\",\\n      \"title\": \"Order Id\"\\n    },\\n    \"purchase_date\": {\\n      \"anyOf\": [\\n        {\\n          \"format\": \"date-time\",\\n          \"type\": \"string\"\\n        },\\n        {\\n          \"type\": \"null\"\\n        }\\n      ],\\n      \"default\": null,\\n      \"title\": \"Purchase Date\"\\n    },\\n    \"priority\": {\\n      \"description\": \"Priority level: low, medium, high\",\\n      \"title\": \"Priority\",\\n      \"type\": \"string\"\\n    },\\n    \"category\": {\\n      \"description\": \"Query category\",\\n      \"enum\": [\\n        \"refund_request\",\\n        \"information_request\",\\n        \"other\"\\n      ],\\n      \"title\": \"Category\",\\n      \"type\": \"string\"\\n    },\\n    \"is_complaint\": {\\n      \"description\": \"whether this is a complaint\",\\n      \"title\": \"Is Complaint\",\\n      \"type\": \"boolean\"\\n    },\\n    \"tags\": {\\n      \"description\": \"Relevant keywords tags\",\\n      \"items\": {\\n        \"type\": \"string\"\\n      },\\n      \"title\": \"Tags\",\\n      \"type\": \"array\"\\n    },\\n    \"recommended_next_action\": {\\n      \"description\": \"LLM\\'s recommeded next action for support\",\\n      \"enum\": [\\n        \"escalate_to_agent\",\\n        \"send_faq_response\",\\n        \"send_order_status\",\\n        \"no_action_needed\"\\n      ],\\n      \"title\": \"Recommended Next Action\",\\n      \"type\": \"string\"\\n    },\\n    \"order_details\": {\\n      \"anyOf\": [\\n        {\\n          \"$ref\": \"#/$defs/OrderDetails\"\\n        },\\n        {\\n          \"type\": \"null\"\\n        }\\n      ],\\n      \"default\": null,\\n      \"description\": \"Order details if action is send_order_status\"\\n    },\\n    \"faq_response\": {\\n      \"anyOf\": [\\n        {\\n          \"type\": \"string\"\\n        },\\n        {\\n          \"type\": \"null\"\\n        }\\n      ],\\n      \"default\": null,\\n      \"description\": \"FAQ response if action is send_faq_response\",\\n      \"title\": \"Faq Response\"\\n    },\\n    \"creation_date\": {\\n      \"description\": \"Date and time the ticket was created\",\\n      \"format\": \"date-time\",\\n      \"title\": \"Creation Date\",\\n      \"type\": \"string\"\\n    }\\n  },\\n  \"required\": [\\n    \"name\",\\n    \"email\",\\n    \"query\",\\n    \"priority\",\\n    \"category\",\\n    \"is_complaint\",\\n    \"tags\",\\n    \"recommended_next_action\",\\n    \"creation_date\"\\n  ],\\n  \"title\": \"SupportTicket\",\\n  \"type\": \"object\"\\n}    \\n    '},\n",
       " {'role': 'user',\n",
       "  'content': \"{'name': 'Joe User', 'email': 'joe@example.com', 'query': 'When can I expect delivery of the headphones I ordered?', 'order_id': 'ABC-12345', 'purchase_date': datetime.datetime(2025, 1, 10, 0, 0), 'priority': 'low', 'category': 'information_request', 'is_complaint': False, 'tags': ['delivery', 'headphones', 'order']}\"}]"
      ]
     },
     "execution_count": 110,
     "metadata": {},
     "output_type": "execute_result"
    }
   ],
   "source": [
    "messages"
   ]
  },
  {
   "cell_type": "markdown",
   "id": "ff384271-7f1e-40f0-9dbe-3e31ad5c41f8",
   "metadata": {},
   "source": [
    "# Gather tool outputs and prepare for ticket generation"
   ]
  },
  {
   "cell_type": "code",
   "execution_count": 19,
   "id": "1deaa3fc-fce6-447c-97b9-ac3ba3ab9fc5",
   "metadata": {},
   "outputs": [
    {
     "data": {
      "text/plain": [
       "'check_order_status'"
      ]
     },
     "execution_count": 19,
     "metadata": {},
     "output_type": "execute_result"
    }
   ],
   "source": [
    "tool_calls.name"
   ]
  },
  {
   "cell_type": "code",
   "execution_count": 32,
   "id": "605531b3-1f37-4ad5-8d34-2b91a19f5722",
   "metadata": {},
   "outputs": [
    {
     "name": "stdout",
     "output_type": "stream",
     "text": [
      "Agent requested a call to Check Order Status tool...\n",
      "Check Order Status tool returned {'order_id': 'ABC-12345', 'status': 'shipped', 'estimated_delivery': '2025-12-05', 'note': 'order_id found but email mismatch'}\n",
      "Tool outputs:\n",
      " [\n",
      "  {\n",
      "    \"tool_call_id\": null,\n",
      "    \"output\": {\n",
      "      \"order_id\": \"ABC-12345\",\n",
      "      \"status\": \"shipped\",\n",
      "      \"estimated_delivery\": \"2025-12-05\",\n",
      "      \"note\": \"order_id found but email mismatch\"\n",
      "    }\n",
      "  }\n",
      "]\n"
     ]
    }
   ],
   "source": [
    "# Define a function to get tool outputs\n",
    "def get_tool_outputs(tool_calls):\n",
    "    tool_outputs = []\n",
    "    if tool_calls:\n",
    "        if tool_calls.name == \"lookup_faq_answer\":\n",
    "            print(\"Agent requested a call to the Lookup FAQ tool...\")\n",
    "            args = FAQLookupArgs.model_validate_json(\n",
    "                json.dumps(tool_calls.args)\n",
    "            )\n",
    "            result = lookup_faq_answer(args)\n",
    "            tool_outputs.append(\n",
    "                {\n",
    "                    \"tool_call_id\": tool_calls.id, \"output\": result\n",
    "                }\n",
    "            )\n",
    "            print(f\"Lookup FAQ tool returned {result}\")\n",
    "\n",
    "        elif tool_calls.name == \"check_order_status\":\n",
    "            print(\"Agent requested a call to Check Order Status tool...\")\n",
    "            args = CheckOrderStatusArgs.model_validate_json(json.dumps(tool_calls.args))\n",
    "            result = check_order_status(args)\n",
    "            tool_outputs.append(\n",
    "                {\n",
    "                    \"tool_call_id\": tool_calls.id, \"output\": result\n",
    "                }\n",
    "            )\n",
    "            print(f\"Check Order Status tool returned {result}\")\n",
    "\n",
    "        return tool_outputs\n",
    "\n",
    "tool_outputs = get_tool_outputs(tool_calls)        \n",
    "\n",
    "# Print tool outputs for inspection\n",
    "print(\"Tool outputs:\\n\", json.dumps(tool_outputs, indent=2))"
   ]
  },
  {
   "cell_type": "code",
   "execution_count": 30,
   "id": "07fd1f17-26c6-4abd-b6b1-89c1bc698ecf",
   "metadata": {},
   "outputs": [
    {
     "data": {
      "text/plain": [
       "'{\"order_id\": \"ABC-12345\", \"email\": \"joe@example.com\"}'"
      ]
     },
     "execution_count": 30,
     "metadata": {},
     "output_type": "execute_result"
    }
   ],
   "source": [
    "tool_calls.args\n",
    "args_json = json.dumps(tool_calls.args)\n",
    "args_json"
   ]
  },
  {
   "cell_type": "markdown",
   "id": "88f556cf-83d0-440f-b6f6-abf39fbfc6d4",
   "metadata": {},
   "source": [
    "# Generate a structured support ticket using Google GenAI"
   ]
  },
  {
   "cell_type": "code",
   "execution_count": 68,
   "id": "b9ce6197-2a13-4d87-9e47-3b51d63d736a",
   "metadata": {},
   "outputs": [],
   "source": [
    "\n",
    "def generate_structured_support_ticket(\n",
    "    customer_query: CustomerQuery, message, tool_outputs: list\n",
    "):\n",
    "    tool_results_str = \"\\n\".join([\n",
    "        f\"Tool: {out['tool_call_id']} Output: {json.dumps(out['output'])}\"\n",
    "        for out in tool_outputs\n",
    "    ]) if tool_outputs else \"No tool calls were made.\"\n",
    "\n",
    "    llm_message_text = \"\".join(part.text or \"\" for part in message.parts)\n",
    "\n",
    "    prompt = f\"\"\"\n",
    "        You are a support agent. Use all information below to \n",
    "        generate a support ticket as a validated Pydantic model.\n",
    "        Customer query: {customer_query.model_dump_json(indent=2)}\n",
    "        LLM message: {llm_message_text}\n",
    "        Tool results: {tool_results_str}\n",
    "    \"\"\"\n",
    "\n",
    "    contents = [\n",
    "       types.Content(\n",
    "            role=\"user\",\n",
    "            parts=[types.Part(text=prompt)]\n",
    "        )\n",
    "    ]\n",
    "\n",
    "    response = client.models.generate_content(\n",
    "        model='gemini-2.5-pro',\n",
    "        contents=contents,\n",
    "        config=types.GenerateContentConfig(\n",
    "            max_output_tokens=2048,\n",
    "            response_mime_type='application/json',\n",
    "            response_schema=SupportTicket,\n",
    "        )\n",
    "    )\n",
    "\n",
    "    # Extract the generated JSON string from response\n",
    "    generated_json_str = None\n",
    "    if response.candidates and response.candidates[0].content and response.candidates[0].content.parts:\n",
    "        generated_json_str = response.candidates[0].content.parts[0].text\n",
    "    else:\n",
    "        raise ValueError(\"No content generated by model.\")\n",
    "\n",
    "    # Parse JSON string into SupportTicket model instance\n",
    "    support_ticket = SupportTicket.model_validate_json(generated_json_str)\n",
    "\n",
    "    # Add creation timestamp (adjust field name to your model definition)\n",
    "    support_ticket.creation_date = datetime.now()\n",
    "\n",
    "    return support_ticket\n"
   ]
  },
  {
   "cell_type": "markdown",
   "id": "1032e334-f9ea-4793-a24f-bd91a7ca0d48",
   "metadata": {},
   "source": [
    "# Print final support ticket"
   ]
  },
  {
   "cell_type": "code",
   "execution_count": 69,
   "id": "9841298b-f4ba-4684-bd8e-fb58a02b2739",
   "metadata": {},
   "outputs": [
    {
     "name": "stdout",
     "output_type": "stream",
     "text": [
      "{\n",
      "  \"name\": \"Joe User\",\n",
      "  \"email\": \"joe@example.com\",\n",
      "  \"query\": \"I'm really not happy with this product I bought\",\n",
      "  \"order_id\": \"QWE-34567\",\n",
      "  \"purchase_date\": null,\n",
      "  \"priority\": \"high\",\n",
      "  \"category\": \"refund_request\",\n",
      "  \"is_complaint\": true,\n",
      "  \"tags\": [\n",
      "    \"product\",\n",
      "    \"complaint\"\n",
      "  ],\n",
      "  \"recommended_next_action\": \"escalate_to_agent\",\n",
      "  \"order_details\": {\n",
      "    \"status\": \"delivered\",\n",
      "    \"estimated_delivery\": \"2025-12-20\",\n",
      "    \"note\": \"order_id found but email mismatch\"\n",
      "  },\n",
      "  \"faq_response\": null,\n",
      "  \"creation_date\": \"2025-08-08T00:32:05.510655\"\n",
      "}\n"
     ]
    }
   ],
   "source": [
    "# Run the final step of generating a support ticket and print output\n",
    "support_ticket = generate_structured_support_ticket(\n",
    "    customer_query, message, tool_outputs\n",
    ")\n",
    "print(support_ticket.model_dump_json(indent=2))"
   ]
  },
  {
   "cell_type": "code",
   "execution_count": 66,
   "id": "c3c1475f-7ab2-4f80-a651-cc4ef65f1e21",
   "metadata": {},
   "outputs": [],
   "source": [
    "# Define new user input data\n",
    "user_json = '''\n",
    "{\n",
    "    \"name\": \"Joe User\",\n",
    "    \"email\": \"joe@example.com\",\n",
    "    \"query\": \"I'm really not happy with this product I bought\",\n",
    "    \"order_id\": \"QWE-34567\",\n",
    "    \"purchase_date\": null\n",
    "}\n",
    "'''"
   ]
  },
  {
   "cell_type": "code",
   "execution_count": 70,
   "id": "96f49010-9f25-4ddd-a009-50bc8d9fac2e",
   "metadata": {},
   "outputs": [
    {
     "name": "stdout",
     "output_type": "stream",
     "text": [
      "User input validated ...\n",
      "CustomerQuery generated ...\n",
      "Agent requested a call to Check Order Status tool...\n",
      "Check Order Status tool returned {'order_id': 'QWE-34567', 'status': 'delivered', 'estimated_delivery': '2025-12-20', 'note': 'order_id found but email mismatch'}\n",
      "{\n",
      "  \"name\": \"Joe User\",\n",
      "  \"email\": \"joe@example.com\",\n",
      "  \"query\": \"I'm really not happy with this product I bought\",\n",
      "  \"order_id\": \"QWE-34567\",\n",
      "  \"purchase_date\": null,\n",
      "  \"priority\": \"high\",\n",
      "  \"category\": \"other\",\n",
      "  \"is_complaint\": true,\n",
      "  \"tags\": [\n",
      "    \"product\",\n",
      "    \"unhappy\",\n",
      "    \"complaint\"\n",
      "  ],\n",
      "  \"recommended_next_action\": \"escalate_to_agent\",\n",
      "  \"order_details\": null,\n",
      "  \"faq_response\": null,\n",
      "  \"creation_date\": \"2025-08-08T00:32:30.780324\"\n",
      "}\n"
     ]
    }
   ],
   "source": [
    "# Run the entire pipeline\n",
    "valid_user_json = validate_user_input(user_json).model_dump_json()\n",
    "customer_query = create_customer_query(valid_user_json)\n",
    "message, tool_calls, messages = decide_next_action_with_tools(\n",
    "    customer_query\n",
    ")\n",
    "tool_outputs = get_tool_outputs(tool_calls)\n",
    "support_ticket = generate_structured_support_ticket(\n",
    "    customer_query, message, tool_outputs\n",
    ")\n",
    "print(support_ticket.model_dump_json(indent=2))"
   ]
  },
  {
   "cell_type": "code",
   "execution_count": null,
   "id": "4b550134-6ec9-49b4-b539-3e408abceebb",
   "metadata": {},
   "outputs": [],
   "source": []
  }
 ],
 "metadata": {
  "kernelspec": {
   "display_name": "Python 3 (ipykernel)",
   "language": "python",
   "name": "python3"
  },
  "language_info": {
   "codemirror_mode": {
    "name": "ipython",
    "version": 3
   },
   "file_extension": ".py",
   "mimetype": "text/x-python",
   "name": "python",
   "nbconvert_exporter": "python",
   "pygments_lexer": "ipython3",
   "version": "3.10.18"
  }
 },
 "nbformat": 4,
 "nbformat_minor": 5
}
