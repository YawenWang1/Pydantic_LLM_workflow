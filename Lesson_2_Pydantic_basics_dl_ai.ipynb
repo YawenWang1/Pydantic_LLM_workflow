{
 "cells": [
  {
   "cell_type": "code",
   "execution_count": 1,
   "id": "c88e251f-be3c-404b-a61e-ca316b5897f2",
   "metadata": {},
   "outputs": [],
   "source": [
    "# import libraries needed for the lesson\n",
    "from pydantic import BaseModel, ValidationError, EmailStr\n",
    "import json"
   ]
  },
  {
   "cell_type": "code",
   "execution_count": 2,
   "id": "8d539309-4482-4124-a13b-db74b1b82101",
   "metadata": {},
   "outputs": [],
   "source": [
    "# Create a Pydantic model for validating customer support input\n",
    "class UserInput(BaseModel):\n",
    "    name: str\n",
    "    email: EmailStr\n",
    "    query: str\n",
    "    "
   ]
  },
  {
   "cell_type": "code",
   "execution_count": 3,
   "id": "1875edbe-17a5-4e6b-b958-002f8a6c5f2c",
   "metadata": {},
   "outputs": [
    {
     "name": "stdout",
     "output_type": "stream",
     "text": [
      "name='Joe User' email='joe.user@example.com' query='I forgot my password'\n"
     ]
    }
   ],
   "source": [
    "# Create a model instance\n",
    "user_input = UserInput(\n",
    "    name = \"Joe User\",\n",
    "    email = \"joe.user@example.com\",\n",
    "    query = \"I forgot my password\"\n",
    ")\n",
    "print(user_input)"
   ]
  },
  {
   "cell_type": "code",
   "execution_count": 7,
   "id": "a7ebc27b-910b-4fd7-a8f4-18ddeabe83b2",
   "metadata": {},
   "outputs": [
    {
     "name": "stdout",
     "output_type": "stream",
     "text": [
      "name='Joe User' email='not-an@email.c' query='I forgot my password'\n"
     ]
    }
   ],
   "source": [
    "# Create another model instance with an invalid email\n",
    "user_input = UserInput(\n",
    "    name = \"Joe User\",\n",
    "    email = \"not-an@email.c\",# This format is what pydantic think a valid email address format\n",
    "    query = \"I forgot my password\"\n",
    ")\n",
    "print(user_input)"
   ]
  },
  {
   "cell_type": "code",
   "execution_count": 8,
   "id": "d23bb4a4-1c29-40a4-bd38-88325a04f868",
   "metadata": {},
   "outputs": [],
   "source": [
    "# Define a function to handle customer support input validation safely\n",
    "def validate_user_input(input_data):\n",
    "    try:\n",
    "        # Attempt to create a UserInput model instance from input data\n",
    "        user_input = UserInput(**input_data)\n",
    "        print(f\"✅ Valid user input created:\")\n",
    "        print(f\"{user_input.model_dump_json(indent=2)}\")\n",
    "        return user_input\n",
    "    except ValidationError as e:\n",
    "        # Capture and display validation erros in a readable format\n",
    "        print(f\"❌ Validation error occurred:\")\n",
    "        for error in e.errors():\n",
    "            print(f\"    - {error['loc'][0]}: {error['msg']}\")\n",
    "            return None\n",
    "    "
   ]
  },
  {
   "cell_type": "code",
   "execution_count": 10,
   "id": "cc8cbdb6-979b-4a4d-85d1-64293416106b",
   "metadata": {},
   "outputs": [
    {
     "name": "stdout",
     "output_type": "stream",
     "text": [
      "✅ Valid user input created:\n",
      "{\n",
      "  \"name\": \"Joe User\",\n",
      "  \"email\": \"joe.user@example.com\",\n",
      "  \"query\": \"I forgot my password\"\n",
      "}\n"
     ]
    }
   ],
   "source": [
    "# Create a dictionary with missing query\n",
    "input_data = {\n",
    "    \"name\": \"Joe User\",\n",
    "    \"email\": \"joe.user@example.com\",\n",
    "    \"query\": \"I forgot my password\"\n",
    "}\n",
    "# Validate the customer support data\n",
    "user_input = validate_user_input(input_data)"
   ]
  },
  {
   "cell_type": "code",
   "execution_count": 12,
   "id": "d02435c0-1bd9-4958-ae62-23ca3131101f",
   "metadata": {},
   "outputs": [
    {
     "name": "stdout",
     "output_type": "stream",
     "text": [
      "❌ Validation error occurred:\n",
      "    - query: Field required\n"
     ]
    }
   ],
   "source": [
    "# Create a dictionary with missing query\n",
    "input_data = {\n",
    "    \"name\": \"Joe User\",\n",
    "    \"email\": \"joe.user@example.com\"\n",
    "}\n",
    "# Validate the customer support data\n",
    "user_input = validate_user_input(input_data)"
   ]
  },
  {
   "cell_type": "markdown",
   "id": "f1de4295-5508-4541-8a58-43bfd662deeb",
   "metadata": {},
   "source": [
    "Create optional features for the user input"
   ]
  },
  {
   "cell_type": "code",
   "execution_count": 19,
   "id": "2c8580e3-9501-4f7d-a03e-567264cd883d",
   "metadata": {},
   "outputs": [],
   "source": [
    "# Import additional libraries for enhanced validation\n",
    "from pydantic import Field\n",
    "from typing import Optional\n",
    "from datetime import date\n",
    "\n",
    "# Enhance UserInput model with optional fields\n",
    "class UserInput(BaseModel):\n",
    "    name: str\n",
    "    email: EmailStr\n",
    "    query: str\n",
    "    order_id: Optional[int] = Field(\n",
    "        None,\n",
    "        description=\"5-digit order number (cannot start with 0)\",\n",
    "        ge=10000,\n",
    "        le=99999\n",
    "    )\n",
    "    purchase_date: Optional[date] = None"
   ]
  },
  {
   "cell_type": "code",
   "execution_count": 20,
   "id": "232db141-db1c-4989-b436-22f6b9b7916b",
   "metadata": {},
   "outputs": [
    {
     "name": "stdout",
     "output_type": "stream",
     "text": [
      "✅ Valid user input created:\n",
      "{\n",
      "  \"name\": \"Joe User\",\n",
      "  \"email\": \"joe.user@example.com\",\n",
      "  \"query\": \"I forgot my password\",\n",
      "  \"order_id\": null,\n",
      "  \"purchase_date\": null\n",
      "}\n"
     ]
    }
   ],
   "source": [
    "# Create a dictionary with requried fields only\n",
    "input_data = {\n",
    "    \"name\": \"Joe User\",\n",
    "    \"email\": \"joe.user@example.com\",\n",
    "    \"query\": \"I forgot my password\"\n",
    "}\n",
    "# Validate the customer support data\n",
    "user_input = validate_user_input(input_data)\n",
    "# null is the json representation of None"
   ]
  },
  {
   "cell_type": "code",
   "execution_count": 21,
   "id": "e6298122-510c-47bd-8eee-64923a8445d0",
   "metadata": {},
   "outputs": [
    {
     "data": {
      "text/plain": [
       "UserInput(name='Joe User', email='joe.user@example.com', query='I forgot my password', order_id=None, purchase_date=None)"
      ]
     },
     "execution_count": 21,
     "metadata": {},
     "output_type": "execute_result"
    }
   ],
   "source": [
    "user_input"
   ]
  },
  {
   "cell_type": "code",
   "execution_count": 22,
   "id": "053ac51c-0aed-4a7b-bca5-36fb0a98f62b",
   "metadata": {},
   "outputs": [
    {
     "name": "stdout",
     "output_type": "stream",
     "text": [
      "✅ Valid user input created:\n",
      "{\n",
      "  \"name\": \"Joe User\",\n",
      "  \"email\": \"joe.user@example.com\",\n",
      "  \"query\": \" I bought a laptop carrying case and it turned out to be the wrong size. \\n                    I need to return it. \",\n",
      "  \"order_id\": 12345,\n",
      "  \"purchase_date\": \"2025-12-31\"\n",
      "}\n"
     ]
    }
   ],
   "source": [
    "# Define a dictionalry with all fields including optional ones\n",
    "input_data = {\n",
    "    \"name\": \"Joe User\",\n",
    "    \"email\": \"joe.user@example.com\",\n",
    "    \"query\": f\"\"\" I bought a laptop carrying case and it turned out to be the wrong size. \n",
    "                    I need to return it. \"\"\",\n",
    "    \"order_id\": 12345,\n",
    "    \"purchase_date\": date(2025, 12, 31)\n",
    "    \n",
    "}\n",
    "# Validate the customer support data\n",
    "user_input = validate_user_input(input_data)\n"
   ]
  },
  {
   "cell_type": "code",
   "execution_count": 23,
   "id": "539e4fb0-4815-4b12-9bce-dac1d9ec7f85",
   "metadata": {},
   "outputs": [
    {
     "data": {
      "text/plain": [
       "UserInput(name='Joe User', email='joe.user@example.com', query=' I bought a laptop carrying case and it turned out to be the wrong size. \\n                    I need to return it. ', order_id=12345, purchase_date=datetime.date(2025, 12, 31))"
      ]
     },
     "execution_count": 23,
     "metadata": {},
     "output_type": "execute_result"
    }
   ],
   "source": [
    "user_input"
   ]
  },
  {
   "cell_type": "code",
   "execution_count": 24,
   "id": "b3868138-6a6d-476c-944a-fbcaeabf72a8",
   "metadata": {},
   "outputs": [
    {
     "name": "stdout",
     "output_type": "stream",
     "text": [
      "❌ Validation error occurred:\n",
      "    - name: Input should be a valid string\n"
     ]
    }
   ],
   "source": [
    "# Define a dictionalry with all fields including optional ones\n",
    "input_data = {\n",
    "    \"name\": 121345,\n",
    "    \"email\": \"joe.user@example.com\",\n",
    "    \"query\": f\"\"\" I bought a laptop carrying case and it turned out to be the wrong size. \n",
    "                    I need to return it. \"\"\",\n",
    "    \"order_id\": 12345,\n",
    "    \"purchase_date\": date(2025, 12, 31)\n",
    "    \n",
    "}\n",
    "# Validate the customer support data\n",
    "user_input = validate_user_input(input_data)\n"
   ]
  },
  {
   "cell_type": "code",
   "execution_count": 29,
   "id": "85f066e9-94eb-4438-a2f1-8898b160b489",
   "metadata": {},
   "outputs": [
    {
     "name": "stdout",
     "output_type": "stream",
     "text": [
      "Parsed JSON {'name': 'Joe User', 'email': 'joe.user@example.com', 'query': 'I bought a keyboard and mouse and was overcharged', 'order_id': 12345, 'purchase_date': '2025-12-31'}\n"
     ]
    }
   ],
   "source": [
    "# This simulates Json data coming from a front-end application\n",
    "\n",
    "json_data = \"\"\" \n",
    "{\n",
    "    \"name\": \"Joe User\",\n",
    "    \"email\": \"joe.user@example.com\",\n",
    "    \"query\": \"I bought a keyboard and mouse and was overcharged\",\n",
    "    \"order_id\": 12345,\n",
    "    \"purchase_date\":\"2025-12-31\"\n",
    "}\n",
    "\"\"\"\n",
    "\n",
    "# Parse the Json string into a python dictionary\n",
    "input_data = json.loads(json_data)\n",
    "print(\"Parsed JSON\", input_data)"
   ]
  },
  {
   "cell_type": "code",
   "execution_count": 30,
   "id": "4b60783b-252f-4330-8085-f80f3c1e0f15",
   "metadata": {},
   "outputs": [
    {
     "name": "stdout",
     "output_type": "stream",
     "text": [
      "✅ Valid user input created:\n",
      "{\n",
      "  \"name\": \"Joe User\",\n",
      "  \"email\": \"joe.user@example.com\",\n",
      "  \"query\": \"I bought a keyboard and mouse and was overcharged\",\n",
      "  \"order_id\": 12345,\n",
      "  \"purchase_date\": \"2025-12-31\"\n",
      "}\n"
     ]
    }
   ],
   "source": [
    "# validate the customer support data from json\n",
    "user_input = validate_user_input(input_data)"
   ]
  },
  {
   "cell_type": "code",
   "execution_count": 37,
   "id": "6c0e4613-e949-41e6-ba1c-7750c22e511d",
   "metadata": {},
   "outputs": [
    {
     "name": "stdout",
     "output_type": "stream",
     "text": [
      "Parsed JSON {'name': 'Joe User', 'email': 'joe.user@example.com', 'query': 'I bought a keyboard and mouse and was overcharged', 'order_id': '11234', 'purchase_date': '2025-12-31'}\n"
     ]
    }
   ],
   "source": [
    "# This simulates Json data coming from a front-end application\n",
    "\n",
    "json_data = \"\"\" \n",
    "{\n",
    "    \"name\": \"Joe User\",\n",
    "    \"email\": \"joe.user@example.com\",\n",
    "    \"query\": \"I bought a keyboard and mouse and was overcharged\",\n",
    "    \"order_id\": \"11234\",\n",
    "    \"purchase_date\":\"2025-12-31\"\n",
    "}\n",
    "\"\"\"\n",
    "\n",
    "# Parse the Json string into a python dictionary\n",
    "input_data = json.loads(json_data)\n",
    "print(\"Parsed JSON\", input_data)"
   ]
  },
  {
   "cell_type": "code",
   "execution_count": 38,
   "id": "15ea811d-b809-4850-a33f-dbeb80230b26",
   "metadata": {},
   "outputs": [
    {
     "name": "stdout",
     "output_type": "stream",
     "text": [
      "✅ Valid user input created:\n",
      "{\n",
      "  \"name\": \"Joe User\",\n",
      "  \"email\": \"joe.user@example.com\",\n",
      "  \"query\": \"I bought a keyboard and mouse and was overcharged\",\n",
      "  \"order_id\": 11234,\n",
      "  \"purchase_date\": \"2025-12-31\"\n",
      "}\n"
     ]
    }
   ],
   "source": [
    "# validate the customer support data from json\n",
    "user_input = validate_user_input(input_data)"
   ]
  },
  {
   "cell_type": "code",
   "execution_count": 39,
   "id": "9b70c9e3-8f9d-46fb-b8bb-dc936b1abe9d",
   "metadata": {},
   "outputs": [
    {
     "name": "stdout",
     "output_type": "stream",
     "text": [
      "{\n",
      "  \"name\": \"Joe User\",\n",
      "  \"email\": \"joe.user@example.com\",\n",
      "  \"query\": \"I bought a keyboard and mouse and was overcharged\",\n",
      "  \"order_id\": 11234,\n",
      "  \"purchase_date\": \"2025-12-31\"\n",
      "}\n"
     ]
    }
   ],
   "source": [
    "user_input = UserInput.model_validate_json(json_data)\n",
    "print(user_input.model_dump_json(indent=2))"
   ]
  },
  {
   "cell_type": "code",
   "execution_count": null,
   "id": "ca040dd7-3a41-4fc7-b418-53c6a0bc3f6f",
   "metadata": {},
   "outputs": [],
   "source": []
  }
 ],
 "metadata": {
  "kernelspec": {
   "display_name": "Python 3 (ipykernel)",
   "language": "python",
   "name": "python3"
  },
  "language_info": {
   "codemirror_mode": {
    "name": "ipython",
    "version": 3
   },
   "file_extension": ".py",
   "mimetype": "text/x-python",
   "name": "python",
   "nbconvert_exporter": "python",
   "pygments_lexer": "ipython3",
   "version": "3.10.18"
  }
 },
 "nbformat": 4,
 "nbformat_minor": 5
}
