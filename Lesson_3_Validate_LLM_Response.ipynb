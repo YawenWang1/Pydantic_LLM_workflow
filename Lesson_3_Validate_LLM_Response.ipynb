{
 "cells": [
  {
   "cell_type": "markdown",
   "id": "b41f9729-81ac-4702-aad4-2a7c41a533c0",
   "metadata": {},
   "source": [
    "Prompting for structure and setting up a retry method. \n",
    "Learning goals:\n",
    "1. Define structured data models for LLM responses\n",
    "2. Build robust retry mechanisms for validation errors\n",
    "3. Create resuable functions for LLM interactions"
   ]
  },
  {
   "cell_type": "code",
   "execution_count": 1,
   "id": "c0d7b275-5cca-4e7e-a39e-581794c4edb7",
   "metadata": {},
   "outputs": [],
   "source": [
    "# Import necessary libraries\n",
    "from pydantic import BaseModel, ValidationError, Field, EmailStr\n",
    "from typing import List, Literal, Optional\n",
    "import json\n",
    "from datetime import date\n",
    "from dotenv import load_dotenv\n",
    "#import openai # very limited use from openai\n",
    "import google.generativeai as genai"
   ]
  },
  {
   "cell_type": "code",
   "execution_count": 2,
   "id": "34602b3f-fc84-43cf-9f14-48e9fe478cf7",
   "metadata": {},
   "outputs": [],
   "source": [
    "# load environment variables for API access\n",
    "#load_dotenv(dotenv_path=\"C:\\\\Users\\\\yawen\\\\Documents\\\\Learning\\\\Pydantic\\\\openai.env\")\n",
    "# Initialize OpenAI client for API calls\n",
    "#client = openai.OpenAI()\n",
    "# Load environment variables for API access\n",
    "load_dotenv(dotenv_path=\"C:\\\\Users\\\\yawen\\\\Documents\\\\Learning\\\\Pydantic\\\\geminiai.env\")\n",
    "\n",
    "import os\n",
    "api_key = os.getenv(\"GOOGLE_API_KEY\")\n",
    "genai.configure(api_key=api_key)\n",
    "#print(f\"API key loaded: {api_key}\")"
   ]
  },
  {
   "cell_type": "code",
   "execution_count": 3,
   "id": "1346e9c8-2589-4a03-9337-0e817ae4cf14",
   "metadata": {},
   "outputs": [],
   "source": [
    "# Defome some sample input data\n",
    "# Define a JSON string representing user data\n",
    "\n",
    "user_input_json = \"\"\"\n",
    "{\n",
    "    \"name\": \"Joe User\",\n",
    "    \"email\": \"joe.user@example.com\",\n",
    "    \"query\": \"I forgot my password.\",\n",
    "    \"order_number\": null,\n",
    "    \"purchase_date\": null\n",
    "}\n",
    "\"\"\""
   ]
  },
  {
   "cell_type": "code",
   "execution_count": 4,
   "id": "89352bd6-0655-4888-9462-eb2ff8f42f2d",
   "metadata": {},
   "outputs": [],
   "source": [
    "# Define Userinput Data Model\n",
    "class UserInput(BaseModel):\n",
    "    name: str\n",
    "    email: EmailStr\n",
    "    query: str\n",
    "    order_id: Optional[int] = Field(\n",
    "        None,\n",
    "        description=\"5-digit order number (cannot start with 0)\",\n",
    "        ge=10000,\n",
    "        le=99999\n",
    "    )\n",
    "    purchase_date: Optional[date] = None"
   ]
  },
  {
   "cell_type": "code",
   "execution_count": 5,
   "id": "4fba4a68-40cb-40e0-8180-b640b32e7362",
   "metadata": {},
   "outputs": [],
   "source": [
    "# Create UserInput instance from JSON data\n",
    "user_input = UserInput.model_validate_json(user_input_json)"
   ]
  },
  {
   "cell_type": "markdown",
   "id": "10f20b95-54fd-48f7-9fe9-9c8b453099f7",
   "metadata": {},
   "source": [
    "Create a mew data model called CustomerQuery"
   ]
  },
  {
   "cell_type": "code",
   "execution_count": 6,
   "id": "6e036e86-5d3d-4117-a38c-942b884d74eb",
   "metadata": {},
   "outputs": [],
   "source": [
    "## Define the customerquery model that inherits from UserInput\n",
    "class CustomerQuery(UserInput):\n",
    "    priority: str = Field(\n",
    "        ..., description=\"Priority level: low, medium, high\"\n",
    "    )\n",
    "    category: Literal[\n",
    "        'refund_request', 'infomration_request', 'other'\n",
    "    ] = Field(..., description=\"Query category\")\n",
    "    is_complaint: bool = Field(\n",
    "        ..., description=\"whether this is a complaint\"\n",
    "    )\n",
    "    tags: List[str] = Field(..., description=\"Relevant keyword tags\")\n",
    "    \n",
    "    "
   ]
  },
  {
   "cell_type": "code",
   "execution_count": 7,
   "id": "590dd8c0-30e6-43c4-8cc2-5d1494d97211",
   "metadata": {},
   "outputs": [],
   "source": [
    "# Create a sample model instance with generic example data to guide LLM.\n",
    "# This ensures the example differs from the actual user query.\n",
    "\n",
    "example_response_structure = f\"\"\" {{\n",
    "    name=\"Example User\",\n",
    "    email=\"user@example.com\",\n",
    "    query=\"I ordered a new computer monitor and it arrived with the screen broken\",\n",
    "    order_id=12345,\n",
    "    purchase_date=\"2025-12-31\",\n",
    "    priority=\"medium\",\n",
    "    category=\"refund_request\",\n",
    "    is_complaint=True,\n",
    "    tags=[\"monitor\", \"support\", \"exchange\"]\n",
    "}}\"\"\""
   ]
  },
  {
   "cell_type": "code",
   "execution_count": 8,
   "id": "7050faf5-1cf9-4a2b-bf0b-aa2a088c3c34",
   "metadata": {},
   "outputs": [
    {
     "name": "stdout",
     "output_type": "stream",
     "text": [
      " \n",
      "please analyze this user query \n",
      " {\n",
      "  \"name\": \"Joe User\",\n",
      "  \"email\": \"joe.user@example.com\",\n",
      "  \"query\": \"I forgot my password.\",\n",
      "  \"order_id\": null,\n",
      "  \"purchase_date\": null\n",
      "}:\n",
      "\n",
      "Return your analysis as a JSON object matching this exact structure and data types:\n",
      " {\n",
      "    name=\"Example User\",\n",
      "    email=\"user@example.com\",\n",
      "    query=\"I ordered a new computer monitor and it arrived with the screen broken\",\n",
      "    order_id=12345,\n",
      "    purchase_date=\"2025-12-31\",\n",
      "    priority=\"medium\",\n",
      "    category=\"refund_request\",\n",
      "    is_complaint=True,\n",
      "    tags=[\"monitor\", \"support\", \"exchange\"]\n",
      "}\n",
      "\n",
      "Reponsd ONLY with valid JSON. Do not include any explanations or other text or formatting \n",
      "before or after the JSON object\n",
      "\n"
     ]
    }
   ],
   "source": [
    "# Create a prompt with user data and expected JSON structure\n",
    "prompt = f\"\"\" \n",
    "please analyze this user query \\n {user_input.model_dump_json(indent=2)}:\n",
    "\n",
    "Return your analysis as a JSON object matching this exact structure and data types:\n",
    "{example_response_structure}\n",
    "\n",
    "Reponsd ONLY with valid JSON. Do not include any explanations or other text or formatting \n",
    "before or after the JSON object\n",
    "\"\"\"\n",
    "\n",
    "print(prompt)"
   ]
  },
  {
   "cell_type": "code",
   "execution_count": 9,
   "id": "eb24b0a8-88e1-4ec8-b23a-c59d7d71713e",
   "metadata": {},
   "outputs": [],
   "source": [
    "# Define a functinon to call the LLM\n",
    "def call_llm_google(prompt, model_name=\"gemini-2.5-pro\"):\n",
    "    \"\"\"\n",
    "    Calls a Google Generative AI model with the given prompt\n",
    "\n",
    "    Args:\n",
    "    prompt (str): The user's input prompt.\n",
    "    model_name (str): The name of the google Generative AI model to use.\n",
    "    Defaults to \"gemini-2.5-pro\", other options include \"gemini-pro-vision\", \"gemini-1.5-flash\", etc.\n",
    "\n",
    "    Returns:\n",
    "        str: The generated content from the model\n",
    "    \"\"\"\n",
    "    try:\n",
    "        # Create a genai model\n",
    "        model = genai.GenerativeModel(model_name)\n",
    "        # Send the prompt to the model\n",
    "        response = model.generate_content(prompt)\n",
    "\n",
    "        # Extract the text content from the response\n",
    "        return response.text\n",
    "\n",
    "    except Exception as e:\n",
    "        print(f\"An Error occured: {e}\")\n",
    "        return f\"Error: Could not generate response. {e}\""
   ]
  },
  {
   "cell_type": "code",
   "execution_count": 10,
   "id": "7deae55b-668a-4e2c-b389-cbfa495cada3",
   "metadata": {},
   "outputs": [
    {
     "name": "stdout",
     "output_type": "stream",
     "text": [
      "```json\n",
      "{\n",
      "    \"name\": \"Joe User\",\n",
      "    \"email\": \"joe.user@example.com\",\n",
      "    \"query\": \"I forgot my password.\",\n",
      "    \"order_id\": null,\n",
      "    \"purchase_date\": null,\n",
      "    \"priority\": \"low\",\n",
      "    \"category\": \"account_issue\",\n",
      "    \"is_complaint\": false,\n",
      "    \"tags\": [\"password\", \"account\", \"login\", \"support\"]\n",
      "}\n",
      "```\n"
     ]
    }
   ],
   "source": [
    "response_content = call_llm_google(prompt)\n",
    "print(response_content)"
   ]
  },
  {
   "cell_type": "markdown",
   "id": "24fdf8a6-1f2c-41a7-bd39-e085d660c692",
   "metadata": {},
   "source": [
    "Validate the LLM output using your CustomerQuery model"
   ]
  },
  {
   "cell_type": "markdown",
   "id": "4981b303-e074-4e16-a642-889ca7b08aea",
   "metadata": {},
   "source": [
    "Note: the following cell will produce a validation error. This is expected. You can simply proceed with the rest of the notebook as cells below do not depend on this cell."
   ]
  },
  {
   "cell_type": "code",
   "execution_count": 11,
   "id": "047df0a2-939b-40c2-8c08-fab64ac32c07",
   "metadata": {},
   "outputs": [
    {
     "ename": "ValidationError",
     "evalue": "1 validation error for CustomerQuery\n  Invalid JSON: expected value at line 1 column 1 [type=json_invalid, input_value='```json\\n{\\n    \"name\": ...in\", \"support\"]\\n}\\n```', input_type=str]\n    For further information visit https://errors.pydantic.dev/2.11/v/json_invalid",
     "output_type": "error",
     "traceback": [
      "\u001b[1;31m---------------------------------------------------------------------------\u001b[0m",
      "\u001b[1;31mValidationError\u001b[0m                           Traceback (most recent call last)",
      "Cell \u001b[1;32mIn[11], line 2\u001b[0m\n\u001b[0;32m      1\u001b[0m \u001b[38;5;66;03m# Attempt to parse the response into CustomerQuery model\u001b[39;00m\n\u001b[1;32m----> 2\u001b[0m valid_data \u001b[38;5;241m=\u001b[39m \u001b[43mCustomerQuery\u001b[49m\u001b[38;5;241;43m.\u001b[39;49m\u001b[43mmodel_validate_json\u001b[49m\u001b[43m(\u001b[49m\u001b[43mresponse_content\u001b[49m\u001b[43m)\u001b[49m\n",
      "File \u001b[1;32m~\\.conda\\envs\\google-ai-env\\lib\\site-packages\\pydantic\\main.py:746\u001b[0m, in \u001b[0;36mBaseModel.model_validate_json\u001b[1;34m(cls, json_data, strict, context, by_alias, by_name)\u001b[0m\n\u001b[0;32m    740\u001b[0m \u001b[38;5;28;01mif\u001b[39;00m by_alias \u001b[38;5;129;01mis\u001b[39;00m \u001b[38;5;28;01mFalse\u001b[39;00m \u001b[38;5;129;01mand\u001b[39;00m by_name \u001b[38;5;129;01mis\u001b[39;00m \u001b[38;5;129;01mnot\u001b[39;00m \u001b[38;5;28;01mTrue\u001b[39;00m:\n\u001b[0;32m    741\u001b[0m     \u001b[38;5;28;01mraise\u001b[39;00m PydanticUserError(\n\u001b[0;32m    742\u001b[0m         \u001b[38;5;124m'\u001b[39m\u001b[38;5;124mAt least one of `by_alias` or `by_name` must be set to True.\u001b[39m\u001b[38;5;124m'\u001b[39m,\n\u001b[0;32m    743\u001b[0m         code\u001b[38;5;241m=\u001b[39m\u001b[38;5;124m'\u001b[39m\u001b[38;5;124mvalidate-by-alias-and-name-false\u001b[39m\u001b[38;5;124m'\u001b[39m,\n\u001b[0;32m    744\u001b[0m     )\n\u001b[1;32m--> 746\u001b[0m \u001b[38;5;28;01mreturn\u001b[39;00m \u001b[38;5;28;43mcls\u001b[39;49m\u001b[38;5;241;43m.\u001b[39;49m\u001b[43m__pydantic_validator__\u001b[49m\u001b[38;5;241;43m.\u001b[39;49m\u001b[43mvalidate_json\u001b[49m\u001b[43m(\u001b[49m\n\u001b[0;32m    747\u001b[0m \u001b[43m    \u001b[49m\u001b[43mjson_data\u001b[49m\u001b[43m,\u001b[49m\u001b[43m \u001b[49m\u001b[43mstrict\u001b[49m\u001b[38;5;241;43m=\u001b[39;49m\u001b[43mstrict\u001b[49m\u001b[43m,\u001b[49m\u001b[43m \u001b[49m\u001b[43mcontext\u001b[49m\u001b[38;5;241;43m=\u001b[39;49m\u001b[43mcontext\u001b[49m\u001b[43m,\u001b[49m\u001b[43m \u001b[49m\u001b[43mby_alias\u001b[49m\u001b[38;5;241;43m=\u001b[39;49m\u001b[43mby_alias\u001b[49m\u001b[43m,\u001b[49m\u001b[43m \u001b[49m\u001b[43mby_name\u001b[49m\u001b[38;5;241;43m=\u001b[39;49m\u001b[43mby_name\u001b[49m\n\u001b[0;32m    748\u001b[0m \u001b[43m\u001b[49m\u001b[43m)\u001b[49m\n",
      "\u001b[1;31mValidationError\u001b[0m: 1 validation error for CustomerQuery\n  Invalid JSON: expected value at line 1 column 1 [type=json_invalid, input_value='```json\\n{\\n    \"name\": ...in\", \"support\"]\\n}\\n```', input_type=str]\n    For further information visit https://errors.pydantic.dev/2.11/v/json_invalid"
     ]
    }
   ],
   "source": [
    "# Attempt to parse the response into CustomerQuery model\n",
    "valid_data = CustomerQuery.model_validate_json(response_content)"
   ]
  },
  {
   "cell_type": "markdown",
   "id": "67d7c8e4-6947-4108-bac1-6a1d4560e693",
   "metadata": {},
   "source": [
    "# Define a function for error handling"
   ]
  },
  {
   "cell_type": "code",
   "execution_count": 17,
   "id": "f95fa5ce-9388-4b65-a8e7-023595bc2101",
   "metadata": {},
   "outputs": [],
   "source": [
    "# Define a function to validate an LLM response\n",
    "def validate_with_model(data_model, llm_response):\n",
    "    try:\n",
    "        validated_data = data_model.model_validate_json(llm_response)\n",
    "        print(\"Data Validation Successful\")\n",
    "        print(validated_data.model_dump_json(indent=2))\n",
    "        return validated_data, None\n",
    "\n",
    "    except ValidationError as e:\n",
    "        print(f\"Error validating data: {e}\")\n",
    "        error_msg = (\n",
    "            f\"This response generated a validation error: {e}\"\n",
    "        )\n",
    "        return None, error_msg\n",
    "        "
   ]
  },
  {
   "cell_type": "code",
   "execution_count": 18,
   "id": "e849a7ad-a7b7-46d6-893f-775953e65e00",
   "metadata": {},
   "outputs": [
    {
     "name": "stdout",
     "output_type": "stream",
     "text": [
      "Error validating data: 1 validation error for CustomerQuery\n",
      "  Invalid JSON: expected value at line 1 column 1 [type=json_invalid, input_value='```json\\n{\\n    \"name\": ...in\", \"support\"]\\n}\\n```', input_type=str]\n",
      "    For further information visit https://errors.pydantic.dev/2.11/v/json_invalid\n"
     ]
    }
   ],
   "source": [
    "# Test validation function with the LLM response\n",
    "validated_data, validation_error = validate_with_model(\n",
    "    CustomerQuery, response_content\n",
    ")"
   ]
  },
  {
   "cell_type": "code",
   "execution_count": 19,
   "id": "06cb3ca5-1e20-4353-9d4e-103d10200572",
   "metadata": {},
   "outputs": [],
   "source": [
    "# Define a function to create a retry prompt with error feedback \n",
    "\n",
    "def create_retry_prompt(\n",
    "    original_prompt, original_response, error_message\n",
    "):\n",
    "    retry_prompt = f\"\"\"\n",
    "    This is a request to fix an error in the structure of an llm_response\n",
    "    Here is the original request:\n",
    "    <original_prompt>\n",
    "    {original_prompt}\n",
    "    </original_prompt>\n",
    "\n",
    "    Here is the original llm_response\n",
    "    <llm_response>\n",
    "    {original_response}\n",
    "    </llm_response>\n",
    "\n",
    "    This response generated an error:\n",
    "    <error_message>\n",
    "    {error_message}\n",
    "    </error_message>\n",
    "\n",
    "    Compare the error message and the llm_response and identify what needs to be fixed or removed\n",
    "    in the llm_response to resolve this error.\n",
    "\n",
    "    Response ONLY with valid JSON. Do not include any explanations or other text or formatting before or\n",
    "    after the JSON string\n",
    "    \n",
    "    \"\"\"\n",
    "    return retry_prompt"
   ]
  },
  {
   "cell_type": "code",
   "execution_count": 20,
   "id": "3310a253-6460-4f17-b6fa-3160d0ec15ff",
   "metadata": {},
   "outputs": [
    {
     "name": "stdout",
     "output_type": "stream",
     "text": [
      "\n",
      "    This is a request to fix an error in the structure of an llm_response\n",
      "    Here is the original request:\n",
      "    <original_prompt>\n",
      "     \n",
      "please analyze this user query \n",
      " {\n",
      "  \"name\": \"Joe User\",\n",
      "  \"email\": \"joe.user@example.com\",\n",
      "  \"query\": \"I forgot my password.\",\n",
      "  \"order_id\": null,\n",
      "  \"purchase_date\": null\n",
      "}:\n",
      "\n",
      "Return your analysis as a JSON object matching this exact structure and data types:\n",
      " {\n",
      "    name=\"Example User\",\n",
      "    email=\"user@example.com\",\n",
      "    query=\"I ordered a new computer monitor and it arrived with the screen broken\",\n",
      "    order_id=12345,\n",
      "    purchase_date=\"2025-12-31\",\n",
      "    priority=\"medium\",\n",
      "    category=\"refund_request\",\n",
      "    is_complaint=True,\n",
      "    tags=[\"monitor\", \"support\", \"exchange\"]\n",
      "}\n",
      "\n",
      "Reponsd ONLY with valid JSON. Do not include any explanations or other text or formatting \n",
      "before or after the JSON object\n",
      "\n",
      "    </original_prompt>\n",
      "\n",
      "    Here is the original llm_response\n",
      "    <llm_response>\n",
      "    ```json\n",
      "{\n",
      "    \"name\": \"Joe User\",\n",
      "    \"email\": \"joe.user@example.com\",\n",
      "    \"query\": \"I forgot my password.\",\n",
      "    \"order_id\": null,\n",
      "    \"purchase_date\": null,\n",
      "    \"priority\": \"low\",\n",
      "    \"category\": \"account_issue\",\n",
      "    \"is_complaint\": false,\n",
      "    \"tags\": [\"password\", \"account\", \"login\", \"support\"]\n",
      "}\n",
      "```\n",
      "    </llm_response>\n",
      "\n",
      "    This response generated an error:\n",
      "    <error_message>\n",
      "    This response generated a validation error: 1 validation error for CustomerQuery\n",
      "  Invalid JSON: expected value at line 1 column 1 [type=json_invalid, input_value='```json\\n{\\n    \"name\": ...in\", \"support\"]\\n}\\n```', input_type=str]\n",
      "    For further information visit https://errors.pydantic.dev/2.11/v/json_invalid\n",
      "    </error_message>\n",
      "\n",
      "    Compare the error message and the llm_response and identify what needs to be fixed or removed\n",
      "    in the llm_response to resolve this error.\n",
      "\n",
      "    Response ONLY with valid JSON. Do not include any explanations or other text or formatting before or\n",
      "    after the JSON string\n",
      "    \n",
      "    \n"
     ]
    }
   ],
   "source": [
    "# Create a retry prompt for validation errors\n",
    "\n",
    "validation_retry_prompt = create_retry_prompt(\n",
    "    original_prompt=prompt,\n",
    "    original_response=response_content,\n",
    "    error_message=validation_error\n",
    ")\n",
    "\n",
    "print(validation_retry_prompt)"
   ]
  },
  {
   "cell_type": "code",
   "execution_count": 21,
   "id": "983fc8ae-da40-4b64-9eb8-abf9a5207617",
   "metadata": {
    "scrolled": true
   },
   "outputs": [
    {
     "name": "stdout",
     "output_type": "stream",
     "text": [
      "```json\n",
      "{\n",
      "    \"name\": \"Joe User\",\n",
      "    \"email\": \"joe.user@example.com\",\n",
      "    \"query\": \"I forgot my password.\",\n",
      "    \"order_id\": null,\n",
      "    \"purchase_date\": null,\n",
      "    \"priority\": \"low\",\n",
      "    \"category\": \"account_issue\",\n",
      "    \"is_complaint\": false,\n",
      "    \"tags\": [\"password\", \"account\", \"login\", \"support\"]\n",
      "}\n",
      "```\n"
     ]
    }
   ],
   "source": [
    "# Call the LLM with the validation retry prompt\n",
    "validation_retry_response = call_llm_google(validation_retry_prompt)\n",
    "print(validation_retry_response)"
   ]
  },
  {
   "cell_type": "code",
   "execution_count": 22,
   "id": "a8eb11fb-e6dd-484b-b806-591e1667a39a",
   "metadata": {},
   "outputs": [
    {
     "name": "stdout",
     "output_type": "stream",
     "text": [
      "Error validating data: 1 validation error for CustomerQuery\n",
      "  Invalid JSON: expected value at line 1 column 1 [type=json_invalid, input_value='```json\\n{\\n    \"name\": ...in\", \"support\"]\\n}\\n```', input_type=str]\n",
      "    For further information visit https://errors.pydantic.dev/2.11/v/json_invalid\n"
     ]
    }
   ],
   "source": [
    "# Attempt to validate retry response from LLM\n",
    "validated_data, validation_error = validate_with_model(\n",
    "    CustomerQuery, validation_retry_response\n",
    ")"
   ]
  },
  {
   "cell_type": "code",
   "execution_count": 23,
   "id": "80a5dd13-4949-4fc7-a55c-2f28ad0f4c25",
   "metadata": {
    "scrolled": true
   },
   "outputs": [
    {
     "name": "stdout",
     "output_type": "stream",
     "text": [
      "\n",
      "    This is a request to fix an error in the structure of an llm_response\n",
      "    Here is the original request:\n",
      "    <original_prompt>\n",
      "    \n",
      "    This is a request to fix an error in the structure of an llm_response\n",
      "    Here is the original request:\n",
      "    <original_prompt>\n",
      "     \n",
      "please analyze this user query \n",
      " {\n",
      "  \"name\": \"Joe User\",\n",
      "  \"email\": \"joe.user@example.com\",\n",
      "  \"query\": \"I forgot my password.\",\n",
      "  \"order_id\": null,\n",
      "  \"purchase_date\": null\n",
      "}:\n",
      "\n",
      "Return your analysis as a JSON object matching this exact structure and data types:\n",
      " {\n",
      "    name=\"Example User\",\n",
      "    email=\"user@example.com\",\n",
      "    query=\"I ordered a new computer monitor and it arrived with the screen broken\",\n",
      "    order_id=12345,\n",
      "    purchase_date=\"2025-12-31\",\n",
      "    priority=\"medium\",\n",
      "    category=\"refund_request\",\n",
      "    is_complaint=True,\n",
      "    tags=[\"monitor\", \"support\", \"exchange\"]\n",
      "}\n",
      "\n",
      "Reponsd ONLY with valid JSON. Do not include any explanations or other text or formatting \n",
      "before or after the JSON object\n",
      "\n",
      "    </original_prompt>\n",
      "\n",
      "    Here is the original llm_response\n",
      "    <llm_response>\n",
      "    ```json\n",
      "{\n",
      "    \"name\": \"Joe User\",\n",
      "    \"email\": \"joe.user@example.com\",\n",
      "    \"query\": \"I forgot my password.\",\n",
      "    \"order_id\": null,\n",
      "    \"purchase_date\": null,\n",
      "    \"priority\": \"low\",\n",
      "    \"category\": \"account_issue\",\n",
      "    \"is_complaint\": false,\n",
      "    \"tags\": [\"password\", \"account\", \"login\", \"support\"]\n",
      "}\n",
      "```\n",
      "    </llm_response>\n",
      "\n",
      "    This response generated an error:\n",
      "    <error_message>\n",
      "    This response generated a validation error: 1 validation error for CustomerQuery\n",
      "  Invalid JSON: expected value at line 1 column 1 [type=json_invalid, input_value='```json\\n{\\n    \"name\": ...in\", \"support\"]\\n}\\n```', input_type=str]\n",
      "    For further information visit https://errors.pydantic.dev/2.11/v/json_invalid\n",
      "    </error_message>\n",
      "\n",
      "    Compare the error message and the llm_response and identify what needs to be fixed or removed\n",
      "    in the llm_response to resolve this error.\n",
      "\n",
      "    Response ONLY with valid JSON. Do not include any explanations or other text or formatting before or\n",
      "    after the JSON string\n",
      "    \n",
      "    \n",
      "    </original_prompt>\n",
      "\n",
      "    Here is the original llm_response\n",
      "    <llm_response>\n",
      "    ```json\n",
      "{\n",
      "    \"name\": \"Joe User\",\n",
      "    \"email\": \"joe.user@example.com\",\n",
      "    \"query\": \"I forgot my password.\",\n",
      "    \"order_id\": null,\n",
      "    \"purchase_date\": null,\n",
      "    \"priority\": \"low\",\n",
      "    \"category\": \"account_issue\",\n",
      "    \"is_complaint\": false,\n",
      "    \"tags\": [\"password\", \"account\", \"login\", \"support\"]\n",
      "}\n",
      "```\n",
      "    </llm_response>\n",
      "\n",
      "    This response generated an error:\n",
      "    <error_message>\n",
      "    This response generated a validation error: 1 validation error for CustomerQuery\n",
      "  Invalid JSON: expected value at line 1 column 1 [type=json_invalid, input_value='```json\\n{\\n    \"name\": ...in\", \"support\"]\\n}\\n```', input_type=str]\n",
      "    For further information visit https://errors.pydantic.dev/2.11/v/json_invalid\n",
      "    </error_message>\n",
      "\n",
      "    Compare the error message and the llm_response and identify what needs to be fixed or removed\n",
      "    in the llm_response to resolve this error.\n",
      "\n",
      "    Response ONLY with valid JSON. Do not include any explanations or other text or formatting before or\n",
      "    after the JSON string\n",
      "    \n",
      "    \n"
     ]
    }
   ],
   "source": [
    "# Create a second retry prompt for validation errors\n",
    "second_validation_retry_prompt = create_retry_prompt(\n",
    "    original_prompt=validation_retry_prompt,\n",
    "    original_response=validation_retry_response,\n",
    "    error_message=validation_error\n",
    ")\n",
    "\n",
    "print(second_validation_retry_prompt)"
   ]
  },
  {
   "cell_type": "code",
   "execution_count": 25,
   "id": "2191bf65-405a-4f2b-ab02-431486dea0be",
   "metadata": {},
   "outputs": [
    {
     "name": "stdout",
     "output_type": "stream",
     "text": [
      "```json\n",
      "{\n",
      "    \"name\": \"Joe User\",\n",
      "    \"email\": \"joe.user@example.com\",\n",
      "    \"query\": \"I forgot my password.\",\n",
      "    \"order_id\": null,\n",
      "    \"purchase_date\": null,\n",
      "    \"priority\": \"low\",\n",
      "    \"category\": \"account_issue\",\n",
      "    \"is_complaint\": false,\n",
      "    \"tags\": [\"password\", \"account\", \"login\", \"support\"]\n",
      "}\n",
      "```\n"
     ]
    }
   ],
   "source": [
    "# Call the LLM with the second validation retry prompt\n",
    "second_validation_retry_response = call_llm_google(\n",
    "    second_validation_retry_prompt\n",
    ")\n",
    "print(second_validation_retry_response)"
   ]
  },
  {
   "cell_type": "code",
   "execution_count": 34,
   "id": "4541af4b-2e03-41bb-a9e5-96c91b544d9e",
   "metadata": {},
   "outputs": [],
   "source": [
    "# Define a funtion to handle multiple retries in a feedbacck loop\n",
    "\n",
    "def validate_llm_response(\n",
    "    prompt, data_model, n_retry=5, model=\"gemini-2.5-pro\"\n",
    "):\n",
    "    # Initial LLM Call\n",
    "    response_content = call_llm_google(prompt)\n",
    "    current_prompt = prompt\n",
    "\n",
    "    # Try to validate with the model\n",
    "\n",
    "    for attempt in range(n_retry + 1):\n",
    "        \n",
    "        validated_data, validation_error = validate_with_model(\n",
    "            data_model, response_content\n",
    "        )\n",
    "\n",
    "        if validation_error:\n",
    "\n",
    "            if attempt < n_retry:\n",
    "                print(f\"retry {attempt} of {n_retry} failed, trying again... \")\n",
    "            else:\n",
    "                \n",
    "                print(f\"Max retries reached. Last error: {validation_error}\")\n",
    "\n",
    "                return None, (\n",
    "                     f\"Max retries reached. Last error: {validation_error}\"\n",
    "                )\n",
    "\n",
    "            validation_retry_prompt = create_retry_prompt(\n",
    "                original_prompt=current_prompt,\n",
    "                original_response=response_content,\n",
    "                error_message=validation_error\n",
    "                )            \n",
    "            response_content = call_llm_google(\n",
    "                validation_retry_prompt\n",
    "            )\n",
    "            current_prompt = validation_retry_prompt\n",
    "            continue\n",
    "\n",
    "        # if you get here, both parsing and validation succeeded\n",
    "        return validated_data, None\n",
    "\n",
    "            \n"
   ]
  },
  {
   "cell_type": "code",
   "execution_count": 35,
   "id": "d66fee50-f348-4918-b0e8-28da255ce440",
   "metadata": {},
   "outputs": [
    {
     "name": "stdout",
     "output_type": "stream",
     "text": [
      "Error validating data: 1 validation error for CustomerQuery\n",
      "  Invalid JSON: expected value at line 1 column 1 [type=json_invalid, input_value='```json\\n{\\n    \"name\": ...in\", \"support\"]\\n}\\n```', input_type=str]\n",
      "    For further information visit https://errors.pydantic.dev/2.11/v/json_invalid\n",
      "retry 0 of 5 failed, trying again... \n",
      "Error validating data: 1 validation error for CustomerQuery\n",
      "  Invalid JSON: expected value at line 1 column 1 [type=json_invalid, input_value='```json\\n{\\n    \"name\": ...in\", \"support\"]\\n}\\n```', input_type=str]\n",
      "    For further information visit https://errors.pydantic.dev/2.11/v/json_invalid\n",
      "retry 1 of 5 failed, trying again... \n",
      "Error validating data: 1 validation error for CustomerQuery\n",
      "  Invalid JSON: expected value at line 1 column 1 [type=json_invalid, input_value='```json\\n{\\n    \"name\": ...in\", \"support\"]\\n}\\n```', input_type=str]\n",
      "    For further information visit https://errors.pydantic.dev/2.11/v/json_invalid\n",
      "retry 2 of 5 failed, trying again... \n",
      "Error validating data: 1 validation error for CustomerQuery\n",
      "  Invalid JSON: expected value at line 1 column 1 [type=json_invalid, input_value='```json\\n{\\n    \"name\": ...in\", \"support\"]\\n}\\n```', input_type=str]\n",
      "    For further information visit https://errors.pydantic.dev/2.11/v/json_invalid\n",
      "retry 3 of 5 failed, trying again... \n",
      "Error validating data: 1 validation error for CustomerQuery\n",
      "  Invalid JSON: expected value at line 1 column 1 [type=json_invalid, input_value='```json\\n{\\n    \"name\": ...in\", \"support\"]\\n}\\n```', input_type=str]\n",
      "    For further information visit https://errors.pydantic.dev/2.11/v/json_invalid\n",
      "retry 4 of 5 failed, trying again... \n",
      "Error validating data: 1 validation error for CustomerQuery\n",
      "  Invalid JSON: expected value at line 1 column 1 [type=json_invalid, input_value='```json\\n{\\n    \"name\": ...in\", \"support\"]\\n}\\n```', input_type=str]\n",
      "    For further information visit https://errors.pydantic.dev/2.11/v/json_invalid\n",
      "Max retries reached. Last error: This response generated a validation error: 1 validation error for CustomerQuery\n",
      "  Invalid JSON: expected value at line 1 column 1 [type=json_invalid, input_value='```json\\n{\\n    \"name\": ...in\", \"support\"]\\n}\\n```', input_type=str]\n",
      "    For further information visit https://errors.pydantic.dev/2.11/v/json_invalid\n"
     ]
    }
   ],
   "source": [
    "# Test your commplete solution with the original prompt\n",
    "validated_data, error = validate_llm_response(\n",
    "    prompt, CustomerQuery\n",
    ")"
   ]
  },
  {
   "cell_type": "code",
   "execution_count": 36,
   "id": "fc855ac2-992b-465f-b836-acf8c96009a3",
   "metadata": {},
   "outputs": [
    {
     "name": "stdout",
     "output_type": "stream",
     "text": [
      "{\n",
      "  \"properties\": {\n",
      "    \"name\": {\n",
      "      \"title\": \"Name\",\n",
      "      \"type\": \"string\"\n",
      "    },\n",
      "    \"email\": {\n",
      "      \"format\": \"email\",\n",
      "      \"title\": \"Email\",\n",
      "      \"type\": \"string\"\n",
      "    },\n",
      "    \"query\": {\n",
      "      \"title\": \"Query\",\n",
      "      \"type\": \"string\"\n",
      "    },\n",
      "    \"order_id\": {\n",
      "      \"anyOf\": [\n",
      "        {\n",
      "          \"maximum\": 99999,\n",
      "          \"minimum\": 10000,\n",
      "          \"type\": \"integer\"\n",
      "        },\n",
      "        {\n",
      "          \"type\": \"null\"\n",
      "        }\n",
      "      ],\n",
      "      \"default\": null,\n",
      "      \"description\": \"5-digit order number (cannot start with 0)\",\n",
      "      \"title\": \"Order Id\"\n",
      "    },\n",
      "    \"purchase_date\": {\n",
      "      \"anyOf\": [\n",
      "        {\n",
      "          \"format\": \"date\",\n",
      "          \"type\": \"string\"\n",
      "        },\n",
      "        {\n",
      "          \"type\": \"null\"\n",
      "        }\n",
      "      ],\n",
      "      \"default\": null,\n",
      "      \"title\": \"Purchase Date\"\n",
      "    },\n",
      "    \"priority\": {\n",
      "      \"description\": \"Priority level: low, medium, high\",\n",
      "      \"title\": \"Priority\",\n",
      "      \"type\": \"string\"\n",
      "    },\n",
      "    \"category\": {\n",
      "      \"description\": \"Query category\",\n",
      "      \"enum\": [\n",
      "        \"refund_request\",\n",
      "        \"infomration_request\",\n",
      "        \"other\"\n",
      "      ],\n",
      "      \"title\": \"Category\",\n",
      "      \"type\": \"string\"\n",
      "    },\n",
      "    \"is_complaint\": {\n",
      "      \"description\": \"whether this is a complaint\",\n",
      "      \"title\": \"Is Complaint\",\n",
      "      \"type\": \"boolean\"\n",
      "    },\n",
      "    \"tags\": {\n",
      "      \"description\": \"Relevant keyword tags\",\n",
      "      \"items\": {\n",
      "        \"type\": \"string\"\n",
      "      },\n",
      "      \"title\": \"Tags\",\n",
      "      \"type\": \"array\"\n",
      "    }\n",
      "  },\n",
      "  \"required\": [\n",
      "    \"name\",\n",
      "    \"email\",\n",
      "    \"query\",\n",
      "    \"priority\",\n",
      "    \"category\",\n",
      "    \"is_complaint\",\n",
      "    \"tags\"\n",
      "  ],\n",
      "  \"title\": \"CustomerQuery\",\n",
      "  \"type\": \"object\"\n",
      "}\n"
     ]
    }
   ],
   "source": [
    "# Investigate the model_json_schema for CustomerQuery\n",
    "data_model_schema = json.dumps(\n",
    "    CustomerQuery.model_json_schema(), indent=2\n",
    ")\n",
    "print(data_model_schema)"
   ]
  },
  {
   "cell_type": "code",
   "execution_count": 37,
   "id": "b6f7e6a5-23ac-4818-8824-800d85767deb",
   "metadata": {},
   "outputs": [
    {
     "name": "stdout",
     "output_type": "stream",
     "text": [
      " \n",
      "please analyze this user query \n",
      " {\n",
      "  \"name\": \"Joe User\",\n",
      "  \"email\": \"joe.user@example.com\",\n",
      "  \"query\": \"I forgot my password.\",\n",
      "  \"order_id\": null,\n",
      "  \"purchase_date\": null\n",
      "}:\n",
      "\n",
      "Return your analysis as a JSON object matching this exact structure and data types:\n",
      " {\n",
      "    name=\"Example User\",\n",
      "    email=\"user@example.com\",\n",
      "    query=\"I ordered a new computer monitor and it arrived with the screen broken\",\n",
      "    order_id=12345,\n",
      "    purchase_date=\"2025-12-31\",\n",
      "    priority=\"medium\",\n",
      "    category=\"refund_request\",\n",
      "    is_complaint=True,\n",
      "    tags=[\"monitor\", \"support\", \"exchange\"]\n",
      "}\n",
      "\n",
      "Reponsd ONLY with valid JSON. Do not include any explanations or other text or formatting \n",
      "before or after the JSON object\n",
      "\n"
     ]
    }
   ],
   "source": [
    "# Print the original prompt from above\n",
    "print(prompt)"
   ]
  },
  {
   "cell_type": "code",
   "execution_count": 38,
   "id": "6bb6f1f4-bb6d-4161-aedb-477a14227b08",
   "metadata": {},
   "outputs": [],
   "source": [
    "# Create new prompt with user input and model_json_schema\n",
    "prompt = f\"\"\"\n",
    "Please analyze this user query\\n {user_input.model_dump_json(indent=2)}:\n",
    "\n",
    "Return your analysis as a JSON object matching the following schema:\n",
    "{data_model_schema}\n",
    "\n",
    "Respond ONLY with valid JSON. Do not include any explanations or \n",
    "other text or formatting before or after the JSON object.\n",
    "\"\"\""
   ]
  },
  {
   "cell_type": "code",
   "execution_count": 39,
   "id": "317899ca-e5e8-4888-bc11-23323f56193e",
   "metadata": {},
   "outputs": [
    {
     "name": "stdout",
     "output_type": "stream",
     "text": [
      "Error validating data: 1 validation error for CustomerQuery\n",
      "  Invalid JSON: expected value at line 1 column 1 [type=json_invalid, input_value='```json\\n{\\n  \"name\": \"J...   \"login\"\\n  ]\\n}\\n```', input_type=str]\n",
      "    For further information visit https://errors.pydantic.dev/2.11/v/json_invalid\n",
      "retry 0 of 5 failed, trying again... \n",
      "Error validating data: 1 validation error for CustomerQuery\n",
      "  Invalid JSON: expected value at line 1 column 1 [type=json_invalid, input_value='```json\\n{\\n  \"name\": \"J...   \"login\"\\n  ]\\n}\\n```', input_type=str]\n",
      "    For further information visit https://errors.pydantic.dev/2.11/v/json_invalid\n",
      "retry 1 of 5 failed, trying again... \n",
      "Error validating data: 1 validation error for CustomerQuery\n",
      "  Invalid JSON: expected value at line 1 column 1 [type=json_invalid, input_value='```json\\n{\\n  \"name\": \"J...   \"login\"\\n  ]\\n}\\n```', input_type=str]\n",
      "    For further information visit https://errors.pydantic.dev/2.11/v/json_invalid\n",
      "retry 2 of 5 failed, trying again... \n",
      "Error validating data: 1 validation error for CustomerQuery\n",
      "  Invalid JSON: expected value at line 1 column 1 [type=json_invalid, input_value='```json\\n{\\n  \"name\": \"J...   \"login\"\\n  ]\\n}\\n```', input_type=str]\n",
      "    For further information visit https://errors.pydantic.dev/2.11/v/json_invalid\n",
      "retry 3 of 5 failed, trying again... \n",
      "Error validating data: 1 validation error for CustomerQuery\n",
      "  Invalid JSON: expected value at line 1 column 1 [type=json_invalid, input_value='```json\\n{\\n  \"name\": \"J...   \"login\"\\n  ]\\n}\\n```', input_type=str]\n",
      "    For further information visit https://errors.pydantic.dev/2.11/v/json_invalid\n",
      "retry 4 of 5 failed, trying again... \n",
      "Error validating data: 1 validation error for CustomerQuery\n",
      "  Invalid JSON: expected value at line 1 column 1 [type=json_invalid, input_value='```json\\n{\\n  \"name\": \"J...   \"login\"\\n  ]\\n}\\n```', input_type=str]\n",
      "    For further information visit https://errors.pydantic.dev/2.11/v/json_invalid\n",
      "Max retries reached. Last error: This response generated a validation error: 1 validation error for CustomerQuery\n",
      "  Invalid JSON: expected value at line 1 column 1 [type=json_invalid, input_value='```json\\n{\\n  \"name\": \"J...   \"login\"\\n  ]\\n}\\n```', input_type=str]\n",
      "    For further information visit https://errors.pydantic.dev/2.11/v/json_invalid\n"
     ]
    }
   ],
   "source": [
    "# Run your validate_llm_response function with the new prompt\n",
    "final_analysis, error = validate_llm_response(\n",
    "    prompt, CustomerQuery\n",
    ")"
   ]
  },
  {
   "cell_type": "code",
   "execution_count": null,
   "id": "532c8a0b-dbd0-4763-87fb-12eea9695eca",
   "metadata": {},
   "outputs": [],
   "source": []
  },
  {
   "cell_type": "code",
   "execution_count": null,
   "id": "4ea5c49e-3f54-4288-81ec-0d3dea379a88",
   "metadata": {},
   "outputs": [],
   "source": []
  },
  {
   "cell_type": "code",
   "execution_count": 14,
   "id": "df1d591a-aa67-41e8-9666-f7e0e1df5e76",
   "metadata": {},
   "outputs": [],
   "source": [
    "# Define a functiona lto call the LLM\n",
    "# def call_llm(prompt, model=\"gpt-4o\"):\n",
    "   # response = client.chat.completions.create(\n",
    "       # model=model,\n",
    "        #messages=[{\"role\": \"user\", \"content\": prompt}]\n",
    "    #)\n",
    "   # return response.choices[0].message.content"
   ]
  }
 ],
 "metadata": {
  "kernelspec": {
   "display_name": "Python 3 (ipykernel)",
   "language": "python",
   "name": "python3"
  },
  "language_info": {
   "codemirror_mode": {
    "name": "ipython",
    "version": 3
   },
   "file_extension": ".py",
   "mimetype": "text/x-python",
   "name": "python",
   "nbconvert_exporter": "python",
   "pygments_lexer": "ipython3",
   "version": "3.10.18"
  }
 },
 "nbformat": 4,
 "nbformat_minor": 5
}
